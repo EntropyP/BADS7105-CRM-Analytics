{
  "nbformat": 4,
  "nbformat_minor": 0,
  "metadata": {
    "colab": {
      "name": "HW11 - Voice of Customers.ipynb",
      "provenance": [],
      "collapsed_sections": [],
      "mount_file_id": "1O7VqlNNLPVoa-b8ADOvtWmUXLZXCcatA",
      "authorship_tag": "ABX9TyM5WCaHw920KleOtAvqvXyT",
      "include_colab_link": true
    },
    "kernelspec": {
      "name": "python3",
      "display_name": "Python 3"
    },
    "language_info": {
      "name": "python"
    },
    "accelerator": "GPU"
  },
  "cells": [
    {
      "cell_type": "markdown",
      "metadata": {
        "id": "view-in-github",
        "colab_type": "text"
      },
      "source": [
        "<a href=\"https://colab.research.google.com/github/tanatiem/BADS7105-CRM-Analytics/blob/main/Homework%2011%20-%20Voice%20of%20Customers/hw11-voice-of-customers.ipynb\" target=\"_parent\"><img src=\"https://colab.research.google.com/assets/colab-badge.svg\" alt=\"Open In Colab\"/></a>"
      ]
    },
    {
      "cell_type": "markdown",
      "metadata": {
        "id": "ibHwuN1teahF"
      },
      "source": [
        "# Homework 11 - Voice of Customers\n",
        "**Subject:** BADS 7205 - CRM Analytics and Intelligence  \n",
        "**Student:** Tanat Iempreedee (6210422036)"
      ]
    },
    {
      "cell_type": "markdown",
      "metadata": {
        "id": "aCxkSr5zefBp"
      },
      "source": [
        "## **Initialization**"
      ]
    },
    {
      "cell_type": "code",
      "metadata": {
        "id": "6pP87iAFSkTX"
      },
      "source": [
        "!pip install --upgrade pythainlp\n",
        "!pip install pyLDAvis\n",
        "!pip install sefr_cut\n",
        "# !pip install deepcut\n",
        "# !pip install tensorflow_text"
      ],
      "execution_count": null,
      "outputs": []
    },
    {
      "cell_type": "code",
      "metadata": {
        "id": "Ye_Qf63hWCMb"
      },
      "source": [
        "import warnings\n",
        "warnings.filterwarnings(\"ignore\", category=DeprecationWarning) \n",
        "warnings.filterwarnings(\"ignore\", category=FutureWarning) \n",
        "\n",
        "import pandas as pd\n",
        "import numpy as np\n",
        "import re\n",
        "import string\n",
        "from pprint import pprint\n",
        "import matplotlib.pyplot as plt\n",
        "import seaborn as sns\n",
        "import networkx as nx\n",
        "\n",
        "\n",
        "import pythainlp\n",
        "from pythainlp.tokenize import sent_tokenize, word_tokenize\n",
        "import gensim\n",
        "\n",
        "import sefr_cut\n",
        "sefr_cut.load_model(engine='tl-deepcut-ws1000')\n",
        "# sefr_cut.load_model(engine='ws1000')\n",
        "\n",
        "\n",
        "# import tensorflow_hub as hub\n",
        "# import tensorflow_text\n",
        "# import tensorflow as tf\n",
        "\n",
        "import pyLDAvis.gensim_models\n",
        "pyLDAvis.enable_notebook()\n"
      ],
      "execution_count": null,
      "outputs": []
    },
    {
      "cell_type": "code",
      "metadata": {
        "colab": {
          "base_uri": "https://localhost:8080/"
        },
        "id": "wSXtjhbsXqLP",
        "outputId": "978ecdbe-754b-47ed-a0c1-a24e448fb9e6"
      },
      "source": [
        "%cd \"/content/drive/My Drive/BADS/7105 CRM/work/11 - Voice of customers\""
      ],
      "execution_count": null,
      "outputs": [
        {
          "output_type": "stream",
          "text": [
            "/content/drive/My Drive/BADS/7105 CRM/work/11 - Voice of customers\n"
          ],
          "name": "stdout"
        }
      ]
    },
    {
      "cell_type": "code",
      "metadata": {
        "id": "vItkPhYbUePR"
      },
      "source": [
        "import matplotlib as mpl\n",
        "mpl.font_manager.fontManager.addfont('/content/drive/MyDrive/fonts/K2D-Regular.ttf')\n",
        "mpl.rc('font', family='K2D', size=12, weight=200)"
      ],
      "execution_count": null,
      "outputs": []
    },
    {
      "cell_type": "markdown",
      "metadata": {
        "id": "jwVjAy_GVgMC"
      },
      "source": [
        "## **Load dataset**"
      ]
    },
    {
      "cell_type": "code",
      "metadata": {
        "colab": {
          "base_uri": "https://localhost:8080/",
          "height": 204
        },
        "id": "J0R7fJCiYMM3",
        "outputId": "12347180-ff04-4441-d89d-7d9488da7017"
      },
      "source": [
        "df = pd.read_csv('CustomerReviews.csv')\n",
        "df.tail()"
      ],
      "execution_count": null,
      "outputs": [
        {
          "output_type": "execute_result",
          "data": {
            "text/html": [
              "<div>\n",
              "<style scoped>\n",
              "    .dataframe tbody tr th:only-of-type {\n",
              "        vertical-align: middle;\n",
              "    }\n",
              "\n",
              "    .dataframe tbody tr th {\n",
              "        vertical-align: top;\n",
              "    }\n",
              "\n",
              "    .dataframe thead th {\n",
              "        text-align: right;\n",
              "    }\n",
              "</style>\n",
              "<table border=\"1\" class=\"dataframe\">\n",
              "  <thead>\n",
              "    <tr style=\"text-align: right;\">\n",
              "      <th></th>\n",
              "      <th>Review ID</th>\n",
              "      <th>Restaurant_ID</th>\n",
              "      <th>Restaurant</th>\n",
              "      <th>User</th>\n",
              "      <th>Headline</th>\n",
              "      <th>Review</th>\n",
              "      <th>Rating</th>\n",
              "    </tr>\n",
              "  </thead>\n",
              "  <tbody>\n",
              "    <tr>\n",
              "      <th>16</th>\n",
              "      <td>17</td>\n",
              "      <td>436045MJ-ข้าน้อยขอชาบู</td>\n",
              "      <td>ข้าน้อยขอชาบู</td>\n",
              "      <td>ployynp</td>\n",
              "      <td>บุฟเฟ่ต์ชาบูและพิซซ่าไม่อั้นในราคา 199 บาท เน้...</td>\n",
              "      <td>หลังจากที่เคยลองสาขายูเนี่ยนมอลล์ไป รอบนี้มาที...</td>\n",
              "      <td>4.0</td>\n",
              "    </tr>\n",
              "    <tr>\n",
              "      <th>17</th>\n",
              "      <td>18</td>\n",
              "      <td>436045MJ-ข้าน้อยขอชาบู</td>\n",
              "      <td>ข้าน้อยขอชาบู</td>\n",
              "      <td>27a91236fe5e4559a4f097c97a480781</td>\n",
              "      <td>ร้านบุฟเฟ่ต์ ราคามิตรภาพ อยู่ชั้น4 ติดโรงหนัง ...</td>\n",
              "      <td>ร้านบุฟเฟ่ต์ที่มีโปรโมชั่นหัวละ199บาท ไม่รวมน้...</td>\n",
              "      <td>4.0</td>\n",
              "    </tr>\n",
              "    <tr>\n",
              "      <th>18</th>\n",
              "      <td>19</td>\n",
              "      <td>436045MJ-ข้าน้อยขอชาบู</td>\n",
              "      <td>ข้าน้อยขอชาบู</td>\n",
              "      <td>0b81d251e4db486f9bcdba73b374ed99</td>\n",
              "      <td>ของหลากหลาย ปนๆ งงๆ นิดหน่อย</td>\n",
              "      <td>เคยรู้จักร้านนี้จากที่ union mall ไม่เคยได้ลอง...</td>\n",
              "      <td>3.0</td>\n",
              "    </tr>\n",
              "    <tr>\n",
              "      <th>19</th>\n",
              "      <td>20</td>\n",
              "      <td>436045MJ-ข้าน้อยขอชาบู</td>\n",
              "      <td>ข้าน้อยขอชาบู</td>\n",
              "      <td>40e0e087f3914fd49a8933b5a29936ca</td>\n",
              "      <td>อร่อยมากค่ะ คุ้มค่าสมราคา บุฟเฟ่หมูผักต่างๆ รว...</td>\n",
              "      <td>อร่อยมากค่ะ คุ้มค่าสมราคา บุฟเฟ่หมูผักต่างๆ รว...</td>\n",
              "      <td>5.0</td>\n",
              "    </tr>\n",
              "    <tr>\n",
              "      <th>20</th>\n",
              "      <td>21</td>\n",
              "      <td>436045MJ-ข้าน้อยขอชาบู</td>\n",
              "      <td>ข้าน้อยขอชาบู</td>\n",
              "      <td>41841cb99ea243a3a8d4b006e946c586</td>\n",
              "      <td>แม้จะแปลกบ้าง แต่ก็ถือว่าอยู่ในเกณฑ์ที่ดี มีอา...</td>\n",
              "      <td>ก็ตามที่เขียนเลยครับ ว่า ถ้าจะจ่ายในราคา 199 บ...</td>\n",
              "      <td>NaN</td>\n",
              "    </tr>\n",
              "  </tbody>\n",
              "</table>\n",
              "</div>"
            ],
            "text/plain": [
              "    Review ID  ... Rating\n",
              "16         17  ...    4.0\n",
              "17         18  ...    4.0\n",
              "18         19  ...    3.0\n",
              "19         20  ...    5.0\n",
              "20         21  ...    NaN\n",
              "\n",
              "[5 rows x 7 columns]"
            ]
          },
          "metadata": {
            "tags": []
          },
          "execution_count": 5
        }
      ]
    },
    {
      "cell_type": "markdown",
      "metadata": {
        "id": "wPDfGvCWzC4o"
      },
      "source": [
        "##**Text preprocessing**"
      ]
    },
    {
      "cell_type": "code",
      "metadata": {
        "colab": {
          "base_uri": "https://localhost:8080/"
        },
        "id": "mVNYDU7P2wtn",
        "outputId": "a78228ea-fd85-4c22-de2e-bad6ab223ad8"
      },
      "source": [
        "# some fixing of words to help with word tokenization\n",
        "correction_dict = {\n",
        "    'โมโม่' : 'momo', 'มากก' : 'มาก', 'กกก' : 'ก', 'แวท' : 'vat', 'พิซเซอเรีย' : 'pizzeria', 'พิซซ่า' : 'pizza', \n",
        "    'เก้บ' : 'เก็บ', 'ชูชิ' : 'ซูชิ', 'ซึป' : 'ซุป', 'ชาบูชิ' : 'shabushi', 'อารามณ์' : 'อารมณ์', 'ส่งน' : 'ส่วน', 'สไลต์' : 'สไลด์', 'ประยุคก์' : 'ประยุกต์',\n",
        "    'ไอติม' : 'icecream', 'พาราไดส์' : 'paradise', 'พาราไดซ์' : 'paradise', 'อัพเดท' : 'update', 'นาราย' : 'narai ', 'พรีเมี่ยม' : 'พรีเมียม',\n",
        "    'บ๋วย' : 'บ๊วย', 'เฟรนไชส์' : 'แฟรนไชส์'\n",
        "}\n",
        "\n",
        "# text cleansing\n",
        "def cleanse_text(text):\n",
        "\n",
        "    text = text.strip().lower()\n",
        "\n",
        "    for old,new in correction_dict.items():\n",
        "        text = text.replace(old, new)\n",
        "\n",
        "    # remove empty spaces\n",
        "    text = re.sub(r'\\u200b', '', text)\n",
        "\n",
        "    # replace punctuations with a space\n",
        "    text = re.sub(r'[ๆฯ!#$&%\\\"\\'()*+,-./:;<=>?@\\[\\]\\\\^_`{}|~]',' ', text)\n",
        "\n",
        "    # replace numbers with a space\n",
        "    text = re.sub(r'\\d',' ', text)\n",
        "\n",
        "    # replace whitespaces with a space\n",
        "    # text = re.sub(r'\\s+', ' ', text).strip()\n",
        "    return text\n",
        "\n",
        "df['cleansed_text'] = df.apply(lambda x: cleanse_text(x['Headline'] + ' ' + x['Review']), axis=1)\n",
        "\n",
        "# sentence & word tokenization\n",
        "df['tokens'] = df['cleansed_text'].apply(lambda x: [ w for st in sent_tokenize(x, engine='whitespace+newline') for w in sefr_cut.tokenize(st,k=100)])\n",
        "\n",
        "# flatten & remove stop words\n",
        "stopwords = list(pythainlp.corpus.thai_stopwords()) \n",
        "removed_words = ['ร้าน','บาท','สำหรับ','ชื่อ','ทาน','ดี','กิน','อาหาร','ดู','คน','ตัว','ลอง','ตอน','เลือก','ใจ']\n",
        "screening_words = stopwords + removed_words\n",
        "\n",
        "df['tokens'] = df['tokens'].apply(lambda x: [ w for sublist in x for w in sublist if w not in screening_words])\n",
        "\n",
        "# replace after tokenization\n",
        "replace_dict = {\n",
        "    'บุพเฟ่' : 'บุฟเฟ่ต์',\n",
        "    'บุฟเฟ่' : 'บุฟเฟ่ต์',\n",
        "    'บุฟเฟ' : 'บุฟเฟ่ต์',\n",
        "    'บุฟเฟต' : 'บุฟเฟ่ต์',\n",
        "    'รสชาต' : 'รสชาติ', \n",
        "}\n",
        "df['tokens'] = df['tokens'].apply(lambda x: [ replace_dict.get(w) if w in replace_dict else w for w in x ])\n",
        "df.loc[:5, 'tokens']"
      ],
      "execution_count": null,
      "outputs": [
        {
          "output_type": "execute_result",
          "data": {
            "text/plain": [
              "0    [บริการ, พนักงาน, น่ารัก, สะอาด, สะอ้าน, ใส่, ...\n",
              "1    [รสชาติ, เหมือน, สาขา, สาขา, บริการ, นั่ง, นึก...\n",
              "2    [ชาบูพรีเมียม, สไตล์, ญี่ปุ่น, เนื้อ, มากก, นั...\n",
              "3    [เนื้อ, icecream, คุ้ม, ค่า, นึก, ชาบู, เนื้อ,...\n",
              "4    [ภาพ, บริการ, เดิน, หน้า, กลิ่น, ชาบูหอม, โปรบ...\n",
              "5    [อิ่ม, momo, บุฟเฟ่ต์, ชา, บู, แนว, ญี่ปุ่น, ส...\n",
              "Name: tokens, dtype: object"
            ]
          },
          "metadata": {
            "tags": []
          },
          "execution_count": 99
        }
      ]
    },
    {
      "cell_type": "code",
      "metadata": {
        "colab": {
          "base_uri": "https://localhost:8080/",
          "height": 323
        },
        "id": "J4hxrvgEWmkJ",
        "outputId": "8b35906d-fd58-4e40-e2d8-162ad40f98d6"
      },
      "source": [
        "data_words = df['tokens']\n",
        "min_count = 1\n",
        "threshold = 1\n",
        "\n",
        "bigram = gensim.models.Phrases(data_words, min_count=min_count, threshold=threshold)\n",
        "trigram = gensim.models.Phrases(bigram[data_words], min_count=min_count, threshold=threshold)\n",
        "\n",
        "bigram_mod = gensim.models.phrases.Phraser(bigram)\n",
        "trigram_mod = gensim.models.phrases.Phraser(trigram)\n",
        "# trigram_mod[data_words[3]]\n",
        "df['trigram_mod'] = trigram_mod[data_words]\n",
        "df.head()"
      ],
      "execution_count": null,
      "outputs": [
        {
          "output_type": "execute_result",
          "data": {
            "text/html": [
              "<div>\n",
              "<style scoped>\n",
              "    .dataframe tbody tr th:only-of-type {\n",
              "        vertical-align: middle;\n",
              "    }\n",
              "\n",
              "    .dataframe tbody tr th {\n",
              "        vertical-align: top;\n",
              "    }\n",
              "\n",
              "    .dataframe thead th {\n",
              "        text-align: right;\n",
              "    }\n",
              "</style>\n",
              "<table border=\"1\" class=\"dataframe\">\n",
              "  <thead>\n",
              "    <tr style=\"text-align: right;\">\n",
              "      <th></th>\n",
              "      <th>Review ID</th>\n",
              "      <th>Restaurant_ID</th>\n",
              "      <th>Restaurant</th>\n",
              "      <th>User</th>\n",
              "      <th>Headline</th>\n",
              "      <th>Review</th>\n",
              "      <th>Rating</th>\n",
              "      <th>cleansed_text</th>\n",
              "      <th>tokens</th>\n",
              "      <th>trigram_mod</th>\n",
              "      <th>topic</th>\n",
              "      <th>score</th>\n",
              "    </tr>\n",
              "  </thead>\n",
              "  <tbody>\n",
              "    <tr>\n",
              "      <th>0</th>\n",
              "      <td>1</td>\n",
              "      <td>352696Px-mo-mo-paradise-เดอะมอลล์-บางกะปิ</td>\n",
              "      <td>Mo-Mo-Paradise (โม โม พาราไดซ์) เดอะมอลล์ บางกะปิ</td>\n",
              "      <td>7b16469831074f7abc7824745ee75212</td>\n",
              "      <td>ที่สำคัญของร้านนี้คือบริการดีมากพนักงานน่ารักส...</td>\n",
              "      <td>ที่สำคัญของร้านนี้คือบริการดีมากพนักงานน่ารักส...</td>\n",
              "      <td>5.0</td>\n",
              "      <td>ที่สำคัญของร้านนี้คือบริการดีมากพนักงานน่ารักส...</td>\n",
              "      <td>[บริการ, พนักงาน, น่ารัก, สะอาด, สะอ้าน, ใส่, ...</td>\n",
              "      <td>[บริการ_พนักงาน, น่ารัก, สะอาด, สะอ้าน, ใส่, ป...</td>\n",
              "      <td>2</td>\n",
              "      <td>0.998289</td>\n",
              "    </tr>\n",
              "    <tr>\n",
              "      <th>1</th>\n",
              "      <td>2</td>\n",
              "      <td>352696Px-mo-mo-paradise-เดอะมอลล์-บางกะปิ</td>\n",
              "      <td>Mo-Mo-Paradise (โม โม พาราไดซ์) เดอะมอลล์ บางกะปิ</td>\n",
              "      <td>pakkaramonpondej</td>\n",
              "      <td>รสชาติเหมือนทุกสาขา แต่สาขานี้ บริการดี ที่นั่งดี</td>\n",
              "      <td>นึกถึงชาบูญี่ปุ่นยังไงก็ต้อง คิดถึงโมโม่ พาราไ...</td>\n",
              "      <td>5.0</td>\n",
              "      <td>รสชาติเหมือนทุกสาขา แต่สาขานี้ บริการดี ที่นั่...</td>\n",
              "      <td>[รสชาติ, เหมือน, สาขา, สาขา, บริการ, นั่ง, นึก...</td>\n",
              "      <td>[รสชาติ, เหมือน_สาขา, สาขา, บริการ, นั่ง, นึก,...</td>\n",
              "      <td>3</td>\n",
              "      <td>0.997637</td>\n",
              "    </tr>\n",
              "    <tr>\n",
              "      <th>2</th>\n",
              "      <td>3</td>\n",
              "      <td>352696Px-mo-mo-paradise-เดอะมอลล์-บางกะปิ</td>\n",
              "      <td>Mo-Mo-Paradise (โม โม พาราไดซ์) เดอะมอลล์ บางกะปิ</td>\n",
              "      <td>saanowy</td>\n",
              "      <td>ชาบูพรีเมี่ยมสไตล์ญี่ปุ่น เนื้อดีมากกก</td>\n",
              "      <td>มาทานช่วงนี้ สามารถนั่งโต๊ะเดียวกัน หม้อเดียวก...</td>\n",
              "      <td>4.0</td>\n",
              "      <td>ชาบูพรีเมียมสไตล์ญี่ปุ่น เนื้อดีมากก มาทานช่วง...</td>\n",
              "      <td>[ชาบูพรีเมียม, สไตล์, ญี่ปุ่น, เนื้อ, มากก, นั...</td>\n",
              "      <td>[ชาบูพรีเมียม, สไตล์, ญี่ปุ่น, เนื้อ, มากก, นั...</td>\n",
              "      <td>0</td>\n",
              "      <td>0.999251</td>\n",
              "    </tr>\n",
              "    <tr>\n",
              "      <th>3</th>\n",
              "      <td>4</td>\n",
              "      <td>352696Px-mo-mo-paradise-เดอะมอลล์-บางกะปิ</td>\n",
              "      <td>Mo-Mo-Paradise (โม โม พาราไดซ์) เดอะมอลล์ บางกะปิ</td>\n",
              "      <td>ployynp</td>\n",
              "      <td>เนื้อดี ไอติมดี คุ้มค่าดี</td>\n",
              "      <td>ถ้านึกถึงชาบูที่มีเนื้อเน้นๆ ในราคาไม่โหดจนเกิ...</td>\n",
              "      <td>4.0</td>\n",
              "      <td>เนื้อดี icecreamดี คุ้มค่าดี ถ้านึกถึงชาบูที่ม...</td>\n",
              "      <td>[เนื้อ, icecream, คุ้ม, ค่า, นึก, ชาบู, เนื้อ,...</td>\n",
              "      <td>[เนื้อ, icecream, คุ้ม_ค่า, นึก_ชาบู, เนื้อ, ร...</td>\n",
              "      <td>2</td>\n",
              "      <td>0.996303</td>\n",
              "    </tr>\n",
              "    <tr>\n",
              "      <th>4</th>\n",
              "      <td>5</td>\n",
              "      <td>352696Px-mo-mo-paradise-เดอะมอลล์-บางกะปิ</td>\n",
              "      <td>Mo-Mo-Paradise (โม โม พาราไดซ์) เดอะมอลล์ บางกะปิ</td>\n",
              "      <td>665a902b335b434ab489f00f2fbb477e</td>\n",
              "      <td>อาหารมีคุณภาพ บริการดีค่ะ</td>\n",
              "      <td>เดินมาหน้าร้านแล้วได้กลิ่นชาบูหอมมาก ๆ  ประกอบ...</td>\n",
              "      <td>5.0</td>\n",
              "      <td>อาหารมีคุณภาพ บริการดีค่ะ เดินมาหน้าร้านแล้วได...</td>\n",
              "      <td>[ภาพ, บริการ, เดิน, หน้า, กลิ่น, ชาบูหอม, โปรบ...</td>\n",
              "      <td>[ภาพ, บริการ, เดิน, หน้า, กลิ่น, ชาบูหอม, โปรบ...</td>\n",
              "      <td>1</td>\n",
              "      <td>0.996984</td>\n",
              "    </tr>\n",
              "  </tbody>\n",
              "</table>\n",
              "</div>"
            ],
            "text/plain": [
              "   Review ID                              Restaurant_ID  ... topic     score\n",
              "0          1  352696Px-mo-mo-paradise-เดอะมอลล์-บางกะปิ  ...     2  0.998289\n",
              "1          2  352696Px-mo-mo-paradise-เดอะมอลล์-บางกะปิ  ...     3  0.997637\n",
              "2          3  352696Px-mo-mo-paradise-เดอะมอลล์-บางกะปิ  ...     0  0.999251\n",
              "3          4  352696Px-mo-mo-paradise-เดอะมอลล์-บางกะปิ  ...     2  0.996303\n",
              "4          5  352696Px-mo-mo-paradise-เดอะมอลล์-บางกะปิ  ...     1  0.996984\n",
              "\n",
              "[5 rows x 12 columns]"
            ]
          },
          "metadata": {
            "tags": []
          },
          "execution_count": 100
        }
      ]
    },
    {
      "cell_type": "code",
      "metadata": {
        "id": "bT4BZQFlRWkY"
      },
      "source": [
        "df.to_pickle('prep.pkl')"
      ],
      "execution_count": null,
      "outputs": []
    },
    {
      "cell_type": "markdown",
      "metadata": {
        "id": "XFbVagMkZ0rc"
      },
      "source": [
        "## **Create Dictionary**"
      ]
    },
    {
      "cell_type": "code",
      "metadata": {
        "id": "lTObzeiMZqvK",
        "colab": {
          "base_uri": "https://localhost:8080/"
        },
        "outputId": "9a1d79ce-7bd7-4891-b3ff-026dc344b14b"
      },
      "source": [
        "# documents = df['tokens'].to_list()\n",
        "documents = df['trigram_mod'].to_list()\n",
        "dictionary = gensim.corpora.Dictionary(documents)\n",
        "pprint(str(dictionary.token2id.keys()))"
      ],
      "execution_count": null,
      "outputs": [
        {
          "output_type": "stream",
          "text": [
            "(\"dict_keys(['icecream', 'คอ', 'คุณภาพ', 'คุ้ม', 'จำกัด', 'ดำ', 'ต้องการ', \"\n",
            " \"'ถาด', 'ถาม', 'น่ารัก', 'น้ำ_ซุป', 'น้ำจิ้ม', 'บริการ', 'บริการ_พนักงาน', \"\n",
            " \"'ประทับใจ', 'รสชาติ', 'รสชาติ_แปลก', 'ราคา', 'ร่อย', 'ละกัน', 'สรุป', \"\n",
            " \"'สะอาด', 'สะอ้าน', 'สัน', 'หลากหลาย', 'อร่อย', 'เคลม', 'เจี้ยว', 'เซ็ท', \"\n",
            " \"'เต้า', 'เนื้อ', 'เป็ด', 'เผ็ด', 'แฟน', 'โมจิอ', 'ใส่', 'ctw', 'momo', \"\n",
            " \"'paradise', 'terminal', 'การงด', 'งาน', 'ชาบูญี่ปุ่น', 'ดื่ม', 'ทะยอย', \"\n",
            " \"'ทำ', 'นั่ง', 'นาที', 'นึก', 'พนักงาน', 'พระราม', 'พรีเมียม', 'มาตราฐาน', \"\n",
            " \"'รัก', 'รายละเอียด', 'ลูกค้า', 'สาขา', 'สู้', 'ออร์เดอร์', 'เครื่อง', \"\n",
            " \"'เค้า', 'เจอ', 'เหมือน_สาขา', 'เหวี่ยง', 'แจ้ง', 'โอกาส', 'โอเค', 'กรุบ', \"\n",
            " \"'กั้น', 'คาว', 'คุโรบูตะ', 'ค่า', 'จาน', 'จิ้ม', 'จืด', 'ฉาก', 'ชอบ', \"\n",
            " \"'ชาบูน้ำดำ', 'ชาบูพรีเมียม', 'ชาเขียว', 'ชิ้น', 'ซอยซอส', 'ญี่ปุ่น', 'ตกคน', \"\n",
            " \"'ตักให้', 'ถั่ว', 'ถ่าย', 'นุ่ม', 'นุ่มลิ้น', 'น้ำ', 'บด', 'บาร์ผัก', \"\n",
            " \"'ภาษา', 'มากก', 'รส', 'รูป', 'รู้สึก', 'ลืม', 'วัว', 'วิด', 'สด', \"\n",
            " \"'สตอเบอรี่', 'สัตว์', 'สั่ง', 'สั่ง_เนื้อ', 'สามรส', 'สไตล์', 'หนึบ', \"\n",
            " \"'หม้อ', 'หวาน', 'หวาน_icecream', 'หวาน_ชอบ', 'อร่อย_คุ้ม', 'เข้มข้น', \"\n",
            " \"'เค็ม', 'เนื้อ_วัว', 'เนื้อ_หมู', 'เนื้อ_เป็ด', 'เลือกได้', 'เสิร์ฟ', \"\n",
            " \"'เหนียว', 'เห็ด', 'แดง', 'แตกต่าง', 'แตา', 'แนว', 'แย้ววว', 'โค', 'โต๊ะ', \"\n",
            " \"'ใส', 'ไก่', 'ไข่', 'ไดฟูกุ', 'ไผ่', 'ไม้', 'ไหว', 'ข้าว', 'คุ้ม_ค่า', \"\n",
            " \"'จ่าย', 'ถ้วย', 'ธรรมดา_ชอบ', 'นึก_ชาบู', 'รสชาเขียว', 'ออส', 'เลี่ยนไว', \"\n",
            " \"'โปรมา', 'โหด', 'ไอศกรีม', 'กลิ่น', 'ขนมอร่อย', 'ชาบูหอม', 'ตัก', 'ตัดสิน', \"\n",
            " \"'น้ำชา', 'บู', 'ผัก', 'ภาพ', 'ลูก_ชิ้น', 'หน้า', 'หลาก', 'เครดิต', 'เดิน', \"\n",
            " \"'เด็ก', 'เนื้อ_สั่ง', 'เนื้อต่าง', 'เส้น', 'แคบ', 'โปรบัตร', 'ชา', \"\n",
            " \"'บุฟเฟ่ต์', 'บ๊วย', 'พอนซึ', 'สาย', 'หยิบ', 'อิ่ม', 'โซน', 'โปรโมชั่น', \"\n",
            " \"'menu', 'number', 'กรรมวิธี', 'กี้', 'คะแนน', 'ชนิด', 'ชาบู', 'ชุด', 'ซึ', \"\n",
            " \"'ดังเดิม', 'ทรู', 'ประยุกต์', 'ปิ', 'พอน', 'มอลบางกะ', 'สุ', 'สุก', 'สุกี้', \"\n",
            " \"'สไลด์', 'หมู', 'เดอะ', 'เมนู', 'แบบฉบับ', 'แบ่ง', 'โมโม', 'ไทย', '–', \"\n",
            " \"'กาแฟ', 'ครีม', 'งวด', 'ชาบูแฟรนไชส์', 'ตำครับ', 'ติดแต่', 'ปกติ', 'ยากี้', \"\n",
            " \"'ร้อน', 'ลุย', 'ออสเตรเลีย', 'เขียว', 'เรื่อง', 'เหมาะสม', 'เหมาะสม_ราคา', \"\n",
            " \"'แนะนำ', 'โชยุหวาน', 'ไข่ไก่', 'ไอศ', 'กุ้ง_เทมปุระ', 'ขา', 'คุ้มครับ', \"\n",
            " \"'งั้น', 'ซ่า', 'ตา', 'นิดนึง', 'บูชิ', 'ปู', 'ละลาน', 'สายพาน', 'หิว', \"\n",
            " \"'อัด', 'ฮ่า', 'าน', 'เกี๊ยว', 'เทียบ', 'เล่น', 'เล่น_ซูชิ', 'แพง', \"\n",
            " \"'shabushi', 'กลาย', 'กี่', 'กุ้ง', 'กุ้งเทม', 'ชอบ_กุ้ง', 'ชั่ว', 'ชื่น', \"\n",
            " \"'ซูชิ', 'ญี่ปุน', 'ดึก', 'ตบ', 'ทอด', 'ทอด_เทมปุระ', 'ท้าย', 'น้ะ', 'ปลา', \"\n",
            " \"'ปุระ', 'สมใจ', 'หลัก', 'หวัง', 'อย่า', 'เติม', 'เทม', 'เย็น', 'เสริม', \"\n",
            " \"'net', 'update', 'กุ้งสด', 'ชม', 'ซูชิลาย', 'ยืน', 'ห้าง', 'อิ่มคุ้ม', \"\n",
            " \"'เทมปุระ', 'เนื้อ_สไลด์', 'เบค่อน', 'เพลิน', 'ไลน์', 'กดส', 'กรอบ', \"\n",
            " \"'กินเพลิน', 'กินได้', 'ข่าว', 'ครึ่ง', 'คิว', 'จุคน', 'ชั่วโมง_นาที', \"\n",
            " \"'ชั้น_g', 'ดิบ', 'ตับหมู', 'ตั้งใจ', 'ติง', 'ติด', 'ถนน', 'ทิ้ง', 'ธรรมดา', \"\n",
            " \"'นุ่ม_หอม', 'น้ำฝรั่ง', 'บางกะปิ', 'บิล', 'ปอก', 'ฝั่ง', 'มื้อ', \"\n",
            " \"'รสชาติโอเค', 'รอ', 'รอ_คิว', 'ระดับ', 'ราคา_บุฟเฟ่ต์', 'รายการ', 'รู้', \"\n",
            " \"'ลด', 'ลาขาด', 'ลูก', 'วาง', 'วานิลา', 'สดดี', 'สาร', 'สาเหตุ', 'หนา', \"\n",
            " \"'หน้า_ห้าง', 'หยุด', 'หอม', 'หอยตลับ', 'หา', 'ห่างหาย', 'อมน้ำมัน', \"\n",
            " \"'อาทิตย์', 'เช็ค', 'เดอะมอลล์', 'เด่น', 'เด้ง', 'เนื่อง', 'เบคอน', \"\n",
            " \"'เปรี้ยว', 'เปลือก', 'เพื่อน', 'เลิก', 'เวลา', 'เสาร์', 'เหมือน', 'แก้ว', \"\n",
            " \"'แถม', 'แน่น', 'แป้ง', 'แย่', 'แออัด', 'โดน', 'โฟลต', 'โอเด้ง', 'ได้ยิน', \"\n",
            " \"'ไปรท์', 'ไอศกรีมวานิลา', 'ชอคโกแลต', 'นัด', 'ฝุดฝุด', 'มะนาว', 'วนิลา', \"\n",
            " \"'สตอเบอร์รี่', 'หมุสไลด์', 'หลากรส', 'อยุ่', 'ออกตลอด', 'เดอะแกงค์', \"\n",
            " \"'เวลา_ชม', 'เอย', 'ขยันเดิน', 'คราบ', 'จอง', 'ชั่วโมง_ครึ่ง', 'บุฟเฟต์', \"\n",
            " \"'ประตูปทาง', 'พลาด', 'พาน', 'พี่', 'รอบ', 'ร้อย', 'สาม', 'สุดท้าย', 'หล่ะ', \"\n",
            " \"'อารมณ์', 'เต็ม', 'โชค', 'โอเคนะ', 'ข้อ', 'ซุป', 'นํ้า', 'บุฟเฟขวัญใจ', \"\n",
            " \"'มี่', 'ระบบ', 'รี', 'วิว', 'สวัสดี', 'xx', 'กลยุทธ์', 'ขนาด', 'ข้น', \"\n",
            " \"'ข้าวปั้น', 'คณะ', 'ค่า_น้ำ', 'ชอปเบา', 'ซุ้ม', 'ดำหยิบ', 'ตรงข้าม', 'ต้ม', \"\n",
            " \"'ต้มยำ', 'ท่าน', 'บริเวณ', 'บัตร', 'ประตู', 'ปรับปรุง', 'ยอด', 'ลาน', \"\n",
            " \"'สมาชิก', 'สลัด', 'สายพานร่อน', 'หมู่', 'อิอิ', 'เครือโออิชิลด', 'เคลื่อน', \"\n",
            " \"'เคาน์เตอร์', 'เดอะมอลล์บางกะปิ', 'เดือด', 'แมคโดนัล', 'โชคชะตา', 'โน้น', \"\n",
            " \"'hall', 'mcc', 'narai', 'pizza', 'pizzeria', 'ค่ายมวย', 'จ่าย_ราคา', 'ชั้น', \"\n",
            " \"'ซุปต่าง', 'ซูชิ_หวาน', 'ยู', 'รีฟีล', 'อั้น', 'อิ่ม_คุ้ม', 'เขียวหวาน', \"\n",
            " \"'เนี่ยนมอลล์', 'แกง', 'แน่นอน', 'แวะ', 'ไหนได้', 'vat', 'กำเงิน', 'ชั่วโมง', \"\n",
            " \"'ชุด_บุฟเฟ่ต์', 'ช่อง', 'ซี', 'ทอน', 'นึง', 'ประกัน', 'ฟู้ด', 'มาคน', \"\n",
            " \"'มิตรภาพ', 'ลอตเตอรี่', 'สัปดาห์', 'หวย', 'หัวละ', 'ฮัน', 'แลก', 'โทสฟรี', \"\n",
            " \"'โรงหนัง', 'mall', 'union', 'ขยัน', 'ขึ้นใจ', 'งง', 'ตัด', 'ตู้', \"\n",
            " \"'นิวออลีน', 'ปน', 'ปรุง', 'รู้จัก', 'สปาเกตตี้', 'สั่งเอา', '😆', '🤣', \"\n",
            " \"'กาไก่', 'จบ', 'จุก', 'บราวนี่', 'บุฟเฟ่ต์_หมู', 'ผัก_น้ำ', 'วิปครีม', \"\n",
            " \"'สมราคา', 'อร่อยยมากก', 'เซต', 'เด็ด', 'เรย', 'เริส', 'เเบบสวย', 'เเป้ง', \"\n",
            " \"'ติ', 'ต้น', 'ทดแทน', 'ปรก', 'มาลงสด', 'ราคา_น้ำ', 'สมควร', 'เกณฑ์', 'เงิน', \"\n",
            " \"'แปลก'])\")\n"
          ],
          "name": "stdout"
        }
      ]
    },
    {
      "cell_type": "code",
      "metadata": {
        "id": "9XfZ7SOrYwcG"
      },
      "source": [
        "gensim_corpus = [dictionary.doc2bow(text, allow_update=True) for text in documents]\n",
        "word_frequencies = [[(dictionary[id], frequence) for id, frequence in couple] for couple in gensim_corpus]\n",
        "id2word = dictionary.id2token"
      ],
      "execution_count": null,
      "outputs": []
    },
    {
      "cell_type": "markdown",
      "metadata": {
        "id": "I9-gOMB-jDjb"
      },
      "source": [
        "## **Topic Modeling**"
      ]
    },
    {
      "cell_type": "markdown",
      "metadata": {
        "id": "uzmSLqbYuNRi"
      },
      "source": [
        "### Evaluate number of topics"
      ]
    },
    {
      "cell_type": "code",
      "metadata": {
        "id": "Tfml09-wcFqq"
      },
      "source": [
        "chunksize = 100 # size of the doc looked at every pass\n",
        "passes = 20 # number of passes through documents #10\n",
        "iterations = 100\n",
        "eval_every = 1 # Don't evaluate model perplexity, takes too much time\n",
        "\n",
        "# choosing n topics\n",
        "score = []\n",
        "for k in range(2,21):\n",
        "    model = gensim.models.LdaModel(corpus=gensim_corpus, id2word=id2word, chunksize=chunksize, \\\n",
        "                        alpha='auto', eta='auto', \\\n",
        "                        iterations=iterations, num_topics=k, \\\n",
        "                        passes=passes, eval_every=eval_every)\n",
        "    coherence_model_lda = gensim.models.CoherenceModel(model=model, texts=df['trigram_mod'], dictionary=dictionary, coherence='c_v')\n",
        "    score.append((k,coherence_model_lda.get_coherence(),model.log_perplexity(gensim_corpus)))\n"
      ],
      "execution_count": null,
      "outputs": []
    },
    {
      "cell_type": "code",
      "metadata": {
        "colab": {
          "base_uri": "https://localhost:8080/",
          "height": 293
        },
        "id": "7FNE6EVnyZli",
        "outputId": "8bbaeec4-430b-40d7-9fc8-f91ce965f623"
      },
      "source": [
        "x, y, z = zip(*score)\n",
        "# fig, axes = plt.subplots(1,2)\n",
        "plt.figure(figsize=(10,4), tight_layout=True)\n",
        "plt.subplot(121)\n",
        "plt.plot(x, y, label='coherence score')\n",
        "plt.grid(True)\n",
        "plt.subplot(122)\n",
        "plt.plot(x, z, label='perplexity')\n",
        "plt.grid(True)\n",
        "plt.show()"
      ],
      "execution_count": null,
      "outputs": [
        {
          "output_type": "display_data",
          "data": {
            "image/png": "[encoded data removed]",
            "text/plain": [
              "<Figure size 720x288 with 2 Axes>"
            ]
          },
          "metadata": {
            "tags": [],
            "needs_background": "light"
          }
        }
      ]
    },
    {
      "cell_type": "markdown",
      "metadata": {
        "id": "eYnNIj3ye01v"
      },
      "source": [
        "### Topic Modeling"
      ]
    },
    {
      "cell_type": "code",
      "metadata": {
        "id": "KFwb8ax_jDrp"
      },
      "source": [
        "num_topics = 4\n",
        "chunksize = 100 # size of the doc looked at every pass\n",
        "passes = 20 # number of passes through documents #10\n",
        "iterations = 100\n",
        "eval_every = 1 # Don't evaluate model perplexity, takes too much time\n",
        "\n",
        "# Make a index to word dictionary.\n",
        "temp = dictionary[0] # This is only to \"load\" the dictionary\n",
        "id2word = dictionary.id2token\n",
        "\n",
        "%time model = gensim.models.LdaModel(corpus=gensim_corpus, id2word=id2word, chunksize=chunksize, \\\n",
        "                       alpha='auto', eta='auto', \\\n",
        "                       iterations=iterations, num_topics=num_topics, \\\n",
        "                       passes=passes, eval_every=eval_every)"
      ],
      "execution_count": null,
      "outputs": []
    },
    {
      "cell_type": "code",
      "metadata": {
        "colab": {
          "base_uri": "https://localhost:8080/"
        },
        "id": "c_zSPT8bb0p4",
        "outputId": "a0e21228-7422-4a7f-ad32-75aa3779e8e4"
      },
      "source": [
        "pprint(model.print_topics(num_words=15))\n",
        "doc_lda = model[gensim_corpus]\n",
        "\n",
        "# Compute Perplexity\n",
        "print('\\nPerplexity: ', model.log_perplexity(gensim_corpus))  # a measure of how good the model is. lower the better.\n",
        "\n",
        "# Compute Coherence Score\n",
        "coherence_model_lda = gensim.models.CoherenceModel(model=model, texts=df['trigram_mod'], dictionary=dictionary, coherence='c_v')\n",
        "coherence_lda = coherence_model_lda.get_coherence()\n",
        "print('Coherence Score: ', coherence_lda)"
      ],
      "execution_count": null,
      "outputs": [
        {
          "output_type": "stream",
          "text": [
            "[(0,\n",
            "  '0.020*\"เนื้อ\" + 0.019*\"อร่อย\" + 0.017*\"น้ำ_ซุป\" + 0.015*\"รสชาติ\" + '\n",
            "  '0.015*\"ราคา\" + 0.012*\"บริการ\" + 0.010*\"คุณภาพ\" + 0.009*\"สาขา\" + '\n",
            "  '0.009*\"shabushi\" + 0.009*\"นั่ง\" + 0.009*\"icecream\" + 0.008*\"หม้อ\" + '\n",
            "  '0.008*\"คุ้ม\" + 0.007*\"เมนู\" + 0.007*\"น้ำจิ้ม\"'),\n",
            " (1,\n",
            "  '0.016*\"ราคา\" + 0.015*\"กุ้ง\" + 0.015*\"สด\" + 0.012*\"เนื้อ\" + 0.012*\"อร่อย\" + '\n",
            "  '0.012*\"หวาน\" + 0.011*\"น้ำ_ซุป\" + 0.011*\"รสชาติ\" + 0.011*\"สาขา\" + '\n",
            "  '0.011*\"shabushi\" + 0.011*\"คุ้ม\" + 0.010*\"เวลา\" + 0.009*\"บุฟเฟ่ต์\" + '\n",
            "  '0.009*\"เมนู\" + 0.007*\"คุณภาพ\"'),\n",
            " (2,\n",
            "  '0.021*\"อร่อย\" + 0.019*\"ราคา\" + 0.017*\"รสชาติ\" + 0.015*\"น้ำ_ซุป\" + '\n",
            "  '0.015*\"บุฟเฟ่ต์\" + 0.015*\"สาขา\" + 0.012*\"pizza\" + 0.010*\"สด\" + '\n",
            "  '0.009*\"บริการ\" + 0.009*\"เนื้อ\" + 0.008*\"หวาน\" + 0.008*\"พนักงาน\" + '\n",
            "  '0.008*\"น้ำ\" + 0.007*\"คุณภาพ\" + 0.007*\"สั่ง\"'),\n",
            " (3,\n",
            "  '0.017*\"ราคา\" + 0.015*\"น้ำ_ซุป\" + 0.015*\"รสชาติ\" + 0.014*\"เนื้อ\" + '\n",
            "  '0.012*\"อร่อย\" + 0.012*\"สาขา\" + 0.011*\"shabushi\" + 0.010*\"บุฟเฟ่ต์\" + '\n",
            "  '0.009*\"คุ้ม\" + 0.009*\"ชาบู\" + 0.009*\"เมนู\" + 0.009*\"น้ำจิ้ม\" + 0.009*\"ผัก\" '\n",
            "  '+ 0.008*\"สด\" + 0.007*\"คุณภาพ\"')]\n",
            "\n",
            "Perplexity:  -6.048888009885947\n",
            "Coherence Score:  0.27971845810400986\n"
          ],
          "name": "stdout"
        },
        {
          "output_type": "stream",
          "text": [
            "/usr/local/lib/python3.7/dist-packages/gensim/models/ldamodel.py:1077: DeprecationWarning: Calling np.sum(generator) is deprecated, and in the future will give a different result. Use np.sum(np.fromiter(generator)) or the python sum builtin instead.\n",
            "  score += np.sum(cnt * logsumexp(Elogthetad + Elogbeta[:, int(id)]) for id, cnt in doc)\n",
            "/usr/local/lib/python3.7/dist-packages/gensim/models/ldamodel.py:1077: DeprecationWarning: Calling np.sum(generator) is deprecated, and in the future will give a different result. Use np.sum(np.fromiter(generator)) or the python sum builtin instead.\n",
            "  score += np.sum(cnt * logsumexp(Elogthetad + Elogbeta[:, int(id)]) for id, cnt in doc)\n",
            "/usr/local/lib/python3.7/dist-packages/gensim/models/ldamodel.py:1077: DeprecationWarning: Calling np.sum(generator) is deprecated, and in the future will give a different result. Use np.sum(np.fromiter(generator)) or the python sum builtin instead.\n",
            "  score += np.sum(cnt * logsumexp(Elogthetad + Elogbeta[:, int(id)]) for id, cnt in doc)\n",
            "/usr/local/lib/python3.7/dist-packages/gensim/models/ldamodel.py:1077: DeprecationWarning: Calling np.sum(generator) is deprecated, and in the future will give a different result. Use np.sum(np.fromiter(generator)) or the python sum builtin instead.\n",
            "  score += np.sum(cnt * logsumexp(Elogthetad + Elogbeta[:, int(id)]) for id, cnt in doc)\n",
            "/usr/local/lib/python3.7/dist-packages/gensim/models/ldamodel.py:1077: DeprecationWarning: Calling np.sum(generator) is deprecated, and in the future will give a different result. Use np.sum(np.fromiter(generator)) or the python sum builtin instead.\n",
            "  score += np.sum(cnt * logsumexp(Elogthetad + Elogbeta[:, int(id)]) for id, cnt in doc)\n",
            "/usr/local/lib/python3.7/dist-packages/gensim/models/ldamodel.py:1077: DeprecationWarning: Calling np.sum(generator) is deprecated, and in the future will give a different result. Use np.sum(np.fromiter(generator)) or the python sum builtin instead.\n",
            "  score += np.sum(cnt * logsumexp(Elogthetad + Elogbeta[:, int(id)]) for id, cnt in doc)\n",
            "/usr/local/lib/python3.7/dist-packages/gensim/models/ldamodel.py:1077: DeprecationWarning: Calling np.sum(generator) is deprecated, and in the future will give a different result. Use np.sum(np.fromiter(generator)) or the python sum builtin instead.\n",
            "  score += np.sum(cnt * logsumexp(Elogthetad + Elogbeta[:, int(id)]) for id, cnt in doc)\n",
            "/usr/local/lib/python3.7/dist-packages/gensim/models/ldamodel.py:1077: DeprecationWarning: Calling np.sum(generator) is deprecated, and in the future will give a different result. Use np.sum(np.fromiter(generator)) or the python sum builtin instead.\n",
            "  score += np.sum(cnt * logsumexp(Elogthetad + Elogbeta[:, int(id)]) for id, cnt in doc)\n",
            "/usr/local/lib/python3.7/dist-packages/gensim/models/ldamodel.py:1077: DeprecationWarning: Calling np.sum(generator) is deprecated, and in the future will give a different result. Use np.sum(np.fromiter(generator)) or the python sum builtin instead.\n",
            "  score += np.sum(cnt * logsumexp(Elogthetad + Elogbeta[:, int(id)]) for id, cnt in doc)\n",
            "/usr/local/lib/python3.7/dist-packages/gensim/models/ldamodel.py:1077: DeprecationWarning: Calling np.sum(generator) is deprecated, and in the future will give a different result. Use np.sum(np.fromiter(generator)) or the python sum builtin instead.\n",
            "  score += np.sum(cnt * logsumexp(Elogthetad + Elogbeta[:, int(id)]) for id, cnt in doc)\n",
            "/usr/local/lib/python3.7/dist-packages/gensim/models/ldamodel.py:1077: DeprecationWarning: Calling np.sum(generator) is deprecated, and in the future will give a different result. Use np.sum(np.fromiter(generator)) or the python sum builtin instead.\n",
            "  score += np.sum(cnt * logsumexp(Elogthetad + Elogbeta[:, int(id)]) for id, cnt in doc)\n",
            "/usr/local/lib/python3.7/dist-packages/gensim/models/ldamodel.py:1077: DeprecationWarning: Calling np.sum(generator) is deprecated, and in the future will give a different result. Use np.sum(np.fromiter(generator)) or the python sum builtin instead.\n",
            "  score += np.sum(cnt * logsumexp(Elogthetad + Elogbeta[:, int(id)]) for id, cnt in doc)\n",
            "/usr/local/lib/python3.7/dist-packages/gensim/models/ldamodel.py:1077: DeprecationWarning: Calling np.sum(generator) is deprecated, and in the future will give a different result. Use np.sum(np.fromiter(generator)) or the python sum builtin instead.\n",
            "  score += np.sum(cnt * logsumexp(Elogthetad + Elogbeta[:, int(id)]) for id, cnt in doc)\n",
            "/usr/local/lib/python3.7/dist-packages/gensim/models/ldamodel.py:1077: DeprecationWarning: Calling np.sum(generator) is deprecated, and in the future will give a different result. Use np.sum(np.fromiter(generator)) or the python sum builtin instead.\n",
            "  score += np.sum(cnt * logsumexp(Elogthetad + Elogbeta[:, int(id)]) for id, cnt in doc)\n",
            "/usr/local/lib/python3.7/dist-packages/gensim/models/ldamodel.py:1077: DeprecationWarning: Calling np.sum(generator) is deprecated, and in the future will give a different result. Use np.sum(np.fromiter(generator)) or the python sum builtin instead.\n",
            "  score += np.sum(cnt * logsumexp(Elogthetad + Elogbeta[:, int(id)]) for id, cnt in doc)\n",
            "/usr/local/lib/python3.7/dist-packages/gensim/models/ldamodel.py:1077: DeprecationWarning: Calling np.sum(generator) is deprecated, and in the future will give a different result. Use np.sum(np.fromiter(generator)) or the python sum builtin instead.\n",
            "  score += np.sum(cnt * logsumexp(Elogthetad + Elogbeta[:, int(id)]) for id, cnt in doc)\n",
            "/usr/local/lib/python3.7/dist-packages/gensim/models/ldamodel.py:1077: DeprecationWarning: Calling np.sum(generator) is deprecated, and in the future will give a different result. Use np.sum(np.fromiter(generator)) or the python sum builtin instead.\n",
            "  score += np.sum(cnt * logsumexp(Elogthetad + Elogbeta[:, int(id)]) for id, cnt in doc)\n",
            "/usr/local/lib/python3.7/dist-packages/gensim/models/ldamodel.py:1077: DeprecationWarning: Calling np.sum(generator) is deprecated, and in the future will give a different result. Use np.sum(np.fromiter(generator)) or the python sum builtin instead.\n",
            "  score += np.sum(cnt * logsumexp(Elogthetad + Elogbeta[:, int(id)]) for id, cnt in doc)\n",
            "/usr/local/lib/python3.7/dist-packages/gensim/models/ldamodel.py:1077: DeprecationWarning: Calling np.sum(generator) is deprecated, and in the future will give a different result. Use np.sum(np.fromiter(generator)) or the python sum builtin instead.\n",
            "  score += np.sum(cnt * logsumexp(Elogthetad + Elogbeta[:, int(id)]) for id, cnt in doc)\n",
            "/usr/local/lib/python3.7/dist-packages/gensim/models/ldamodel.py:1077: DeprecationWarning: Calling np.sum(generator) is deprecated, and in the future will give a different result. Use np.sum(np.fromiter(generator)) or the python sum builtin instead.\n",
            "  score += np.sum(cnt * logsumexp(Elogthetad + Elogbeta[:, int(id)]) for id, cnt in doc)\n",
            "/usr/local/lib/python3.7/dist-packages/gensim/models/ldamodel.py:1077: DeprecationWarning: Calling np.sum(generator) is deprecated, and in the future will give a different result. Use np.sum(np.fromiter(generator)) or the python sum builtin instead.\n",
            "  score += np.sum(cnt * logsumexp(Elogthetad + Elogbeta[:, int(id)]) for id, cnt in doc)\n"
          ],
          "name": "stderr"
        }
      ]
    },
    {
      "cell_type": "code",
      "metadata": {
        "colab": {
          "base_uri": "https://localhost:8080/",
          "height": 861
        },
        "id": "Hi2ifVlsjDy8",
        "outputId": "6386e1e2-16f1-48b1-dd74-7cd043da2c16"
      },
      "source": [
        "pyLDAvis.gensim_models.prepare(model, gensim_corpus, dictionary)"
      ],
      "execution_count": null,
      "outputs": [
        {
          "output_type": "execute_result",
          "data": {
            "text/html": [
              "\n",
              "<link rel=\"stylesheet\" type=\"text/css\" href=\"https://cdn.jsdelivr.net/gh/bmabey/pyLDAvis@3.3.1/pyLDAvis/js/ldavis.v1.0.0.css\">\n",
              "\n",
              "\n",
              "<div id=\"ldavis_el3231402707830390561105971792\"></div>\n",
              "<script type=\"text/javascript\">\n",
              "\n",
              "var ldavis_el3231402707830390561105971792_data = {\"mdsDat\": {\"x\": [-0.045440508696281204, 0.02788003894959399, 0.01162731483325935, 0.0059331549134278945], \"y\": [0.010195154041113048, 0.033876386009077684, -0.03858667551346442, -0.005484864536726312], \"topics\": [1, 2, 3, 4], \"cluster\": [1, 1, 1, 1], \"Freq\": [31.16825794910623, 30.765052108084546, 20.215686225226104, 17.85100371758312]}, \"tinfo\": {\"Term\": [\"\\u0e01\\u0e38\\u0e49\\u0e07\", \"\\u0e40\\u0e27\\u0e25\\u0e32\", \"pizza\", \"shabushi\", \"\\u0e1b\\u0e2d\\u0e01\", \"\\u0e40\\u0e1b\\u0e25\\u0e37\\u0e2d\\u0e01\", \"\\u0e2a\\u0e14\", \"\\u0e40\\u0e19\\u0e37\\u0e49\\u0e2d\", \"\\u0e19\\u0e49\\u0e33\\u0e08\\u0e34\\u0e49\\u0e21\", \"\\u0e1a\\u0e38\\u0e1f\\u0e40\\u0e1f\\u0e48\\u0e15\\u0e4c\", \"\\u0e1c\\u0e31\\u0e01\", \"\\u0e0a\\u0e31\\u0e48\\u0e27\\u0e42\\u0e21\\u0e07_\\u0e04\\u0e23\\u0e36\\u0e48\\u0e07\", \"\\u0e17\\u0e2d\\u0e14_\\u0e40\\u0e17\\u0e21\\u0e1b\\u0e38\\u0e23\\u0e30\", \"\\u0e0a\\u0e2d\\u0e1a_\\u0e01\\u0e38\\u0e49\\u0e07\", \"\\u0e1b\\u0e38\\u0e23\\u0e30\", \"\\u0e0a\\u0e32\\u0e1a\\u0e39\\u0e41\\u0e1f\\u0e23\\u0e19\\u0e44\\u0e0a\\u0e2a\\u0e4c\", \"\\u0e0a\\u0e19\\u0e34\\u0e14\", \"\\u0e42\\u0e21\\u0e42\\u0e21\", \"\\u0e2a\\u0e38\\u0e01\\u0e35\\u0e49\", \"\\u0e01\\u0e35\\u0e49\", \"\\u0e04\\u0e38\\u0e49\\u0e21\", \"\\u0e01\\u0e38\\u0e49\\u0e07_\\u0e40\\u0e17\\u0e21\\u0e1b\\u0e38\\u0e23\\u0e30\", \"\\u0e0a\\u0e37\\u0e48\\u0e19\", \"\\u0e0a\\u0e32\\u0e1a\\u0e39\", \"\\u0e2b\\u0e27\\u0e32\\u0e19\", \"\\u0e15\\u0e32\", \"\\u0e01\\u0e38\\u0e49\\u0e07\\u0e2a\\u0e14\", \"\\u0e40\\u0e19\\u0e37\\u0e49\\u0e2d_\\u0e2a\\u0e44\\u0e25\\u0e14\\u0e4c\", \"\\u0e40\\u0e17\\u0e35\\u0e22\\u0e1a\", \"\\u0e19\\u0e34\\u0e14\\u0e19\\u0e36\\u0e07\", \"pizza\", \"pizzeria\", \"\\u0e42\\u0e1b\\u0e23\\u0e42\\u0e21\\u0e0a\\u0e31\\u0e48\\u0e19\", \"narai\", \"\\u0e42\\u0e2d\\u0e40\\u0e04\", \"vat\", \"\\u0e08\\u0e1a\", \"\\u0e1a\\u0e38\\u0e1f\\u0e40\\u0e1f\\u0e48\\u0e15\\u0e4c_\\u0e2b\\u0e21\\u0e39\", \"\\u0e1c\\u0e31\\u0e01_\\u0e19\\u0e49\\u0e33\", \"\\u0e2a\\u0e21\\u0e23\\u0e32\\u0e04\\u0e32\", \"\\u0e0a\\u0e31\\u0e49\\u0e19\", \"\\u0e41\\u0e1b\\u0e25\\u0e01\", \"\\u0e41\\u0e19\\u0e48\\u0e19\\u0e2d\\u0e19\", \"\\u0e14\\u0e37\\u0e48\\u0e21\", \"\\u0e2d\\u0e34\\u0e48\\u0e21_\\u0e04\\u0e38\\u0e49\\u0e21\", \"\\u0e2d\\u0e34\\u0e48\\u0e21\", \"\\u0e23\\u0e32\\u0e04\\u0e32_\\u0e19\\u0e49\\u0e33\", \"\\u0e2b\\u0e27\\u0e22\", \"\\u0e0a\\u0e38\\u0e14_\\u0e1a\\u0e38\\u0e1f\\u0e40\\u0e1f\\u0e48\\u0e15\\u0e4c\", \"\\u0e08\\u0e48\\u0e32\\u0e22_\\u0e23\\u0e32\\u0e04\\u0e32\", \"\\u0e0b\\u0e39\\u0e0a\\u0e34_\\u0e2b\\u0e27\\u0e32\\u0e19\", \"\\u0e40\\u0e27\\u0e25\\u0e32_\\u0e0a\\u0e21\", \"mall\", \"\\u0e1b\\u0e19\", \"\\u0e15\\u0e31\\u0e14\", \"\\u0e2a\\u0e1b\\u0e32\\u0e40\\u0e01\\u0e15\\u0e15\\u0e35\\u0e49\", \"\\u0e1b\\u0e23\\u0e38\\u0e07\", \"union\", \"\\u0e23\\u0e39\\u0e49\\u0e08\\u0e31\\u0e01\", \"\\u0e07\\u0e07\", \"\\u0e1a\\u0e38\\u0e1f\\u0e40\\u0e1f\\u0e48\\u0e15\\u0e4c\", \"\\u0e2d\\u0e23\\u0e48\\u0e2d\\u0e22\", \"\\u0e2a\\u0e32\\u0e02\\u0e32\", \"\\u0e23\\u0e32\\u0e04\\u0e32\", \"\\u0e23\\u0e2a\\u0e0a\\u0e32\\u0e15\\u0e34\", \"\\u0e17\\u0e49\\u0e32\\u0e22\", \"\\u0e42\\u0e0b\\u0e19\", \"\\u0e07\\u0e32\\u0e19\", \"\\u0e19\\u0e49\\u0e33_\\u0e0b\\u0e38\\u0e1b\", \"\\u0e1e\\u0e19\\u0e31\\u0e01\\u0e07\\u0e32\\u0e19\", \"\\u0e19\\u0e49\\u0e33\", \"\\u0e1a\\u0e23\\u0e34\\u0e01\\u0e32\\u0e23\", \"\\u0e2a\\u0e14\", \"\\u0e2b\\u0e27\\u0e32\\u0e19\", \"\\u0e2a\\u0e31\\u0e48\\u0e07\", \"\\u0e04\\u0e38\\u0e13\\u0e20\\u0e32\\u0e1e\", \"icecream\", \"\\u0e0b\\u0e39\\u0e0a\\u0e34\", \"\\u0e0a\\u0e32\\u0e1a\\u0e39\", \"\\u0e40\\u0e19\\u0e37\\u0e49\\u0e2d\", \"\\u0e2d\\u0e23\\u0e48\\u0e2d\\u0e22_\\u0e04\\u0e38\\u0e49\\u0e21\", \"\\u0e2b\\u0e22\\u0e34\\u0e1a\", \"\\u0e2b\\u0e25\\u0e32\\u0e01\", \"\\u0e41\\u0e19\\u0e30\\u0e19\\u0e33\", \"\\u0e18\\u0e23\\u0e23\\u0e21\\u0e14\\u0e32\", \"\\u0e15\\u0e34\\u0e14\", \"\\u0e44\\u0e01\\u0e48\", \"\\u0e04\\u0e38\\u0e49\\u0e21\", \"\\u0e40\\u0e21\\u0e19\\u0e39\", \"\\u0e04\\u0e48\\u0e32\", \"\\u0e1b\\u0e23\\u0e30\\u0e17\\u0e31\\u0e1a\\u0e43\\u0e08\", \"\\u0e19\\u0e4d\\u0e49\\u0e32\", \"\\u0e15\\u0e49\\u0e2d\\u0e07\\u0e01\\u0e32\\u0e23\", \"\\u0e42\\u0e15\\u0e4a\\u0e30\", \"\\u0e2a\\u0e30\\u0e2d\\u0e49\\u0e32\\u0e19\", \"\\u0e19\\u0e48\\u0e32\\u0e23\\u0e31\\u0e01\", \"\\u0e23\\u0e2a\\u0e0a\\u0e32\\u0e15\\u0e34_\\u0e41\\u0e1b\\u0e25\\u0e01\", \"\\u0e40\\u0e2b\\u0e47\\u0e14\", \"\\u0e2a\\u0e23\\u0e38\\u0e1b\", \"\\u0e43\\u0e2a\", \"\\u0e2b\\u0e27\\u0e32\\u0e19_icecream\", \"\\u0e44\\u0e21\\u0e49\", \"\\u0e44\\u0e1c\\u0e48\", \"\\u0e40\\u0e19\\u0e37\\u0e49\\u0e2d_\\u0e40\\u0e1b\\u0e47\\u0e14\", \"\\u0e44\\u0e14\\u0e1f\\u0e39\\u0e01\\u0e38\", \"\\u0e40\\u0e14\\u0e47\\u0e01\", \"\\u0e42\\u0e1b\\u0e23\\u0e1a\\u0e31\\u0e15\\u0e23\", \"\\u0e20\\u0e32\\u0e1e\", \"\\u0e0a\\u0e32\\u0e1a\\u0e39\\u0e2b\\u0e2d\\u0e21\", \"\\u0e41\\u0e04\\u0e1a\", \"\\u0e40\\u0e14\\u0e34\\u0e19\", \"\\u0e40\\u0e04\\u0e23\\u0e14\\u0e34\\u0e15\", \"\\u0e1a\\u0e38\\u0e1f\\u0e40\\u0e1f\\u0e02\\u0e27\\u0e31\\u0e0d\\u0e43\\u0e08\", \"\\u0e40\\u0e25\\u0e35\\u0e48\\u0e22\\u0e19\\u0e44\\u0e27\", \"\\u0e40\\u0e2a\\u0e49\\u0e19\", \"\\u0e2a\\u0e27\\u0e31\\u0e2a\\u0e14\\u0e35\", \"\\u0e42\\u0e2b\\u0e14\", \"\\u0e02\\u0e49\\u0e2d\", \"\\u0e16\\u0e49\\u0e27\\u0e22\", \"\\u0e27\\u0e34\\u0e27\", \"\\u0e2b\\u0e21\\u0e49\\u0e2d\", \"\\u0e08\\u0e32\\u0e19\", \"\\u0e40\\u0e19\\u0e37\\u0e49\\u0e2d\", \"\\u0e2b\\u0e19\\u0e49\\u0e32\", \"\\u0e1a\\u0e23\\u0e34\\u0e01\\u0e32\\u0e23\", \"\\u0e19\\u0e31\\u0e48\\u0e07\", \"\\u0e0a\\u0e32\\u0e1a\\u0e39\\u0e19\\u0e49\\u0e33\\u0e14\\u0e33\", \"\\u0e2d\\u0e23\\u0e48\\u0e2d\\u0e22\", \"\\u0e19\\u0e49\\u0e33_\\u0e0b\\u0e38\\u0e1b\", \"\\u0e04\\u0e38\\u0e13\\u0e20\\u0e32\\u0e1e\", \"\\u0e44\\u0e01\\u0e48\", \"\\u0e04\\u0e38\\u0e49\\u0e21_\\u0e04\\u0e48\\u0e32\", \"\\u0e04\\u0e2d\", \"\\u0e19\\u0e49\\u0e33\\u0e08\\u0e34\\u0e49\\u0e21\", \"\\u0e23\\u0e2a\", \"\\u0e23\\u0e2a\\u0e0a\\u0e32\\u0e15\\u0e34\", \"\\u0e2a\\u0e31\\u0e48\\u0e07\", \"\\u0e23\\u0e32\\u0e04\\u0e32\", \"icecream\", \"shabushi\", \"\\u0e2a\\u0e32\\u0e02\\u0e32\", \"\\u0e04\\u0e38\\u0e49\\u0e21\", \"\\u0e40\\u0e21\\u0e19\\u0e39\", \"\\u0e0d\\u0e35\\u0e48\\u0e1b\\u0e38\\u0e48\\u0e19\", \"\\u0e19\\u0e49\\u0e33\", \"\\u0e0a\\u0e2d\\u0e1a\", \"\\u0e2d\\u0e23\\u0e48\\u0e2d\\u0e22_\\u0e04\\u0e38\\u0e49\\u0e21\", \"\\u0e40\\u0e2a\\u0e34\\u0e23\\u0e4c\\u0e1f\", \"\\u0e2a\\u0e32\\u0e22\\u0e1e\\u0e32\\u0e19\", \"\\u0e2a\\u0e14\", \"\\u0e04\\u0e48\\u0e32\", \"\\u0e2b\\u0e27\\u0e32\\u0e19\", \"\\u0e1a\\u0e38\\u0e1f\\u0e40\\u0e1f\\u0e48\\u0e15\\u0e4c\", \"\\u0e40\\u0e27\\u0e25\\u0e32\", \"\\u0e15\\u0e32\", \"\\u0e1b\\u0e2d\\u0e01\", \"\\u0e40\\u0e1b\\u0e25\\u0e37\\u0e2d\\u0e01\", \"\\u0e01\\u0e38\\u0e49\\u0e07\\u0e2a\\u0e14\", \"\\u0e40\\u0e19\\u0e37\\u0e49\\u0e2d_\\u0e2a\\u0e44\\u0e25\\u0e14\\u0e4c\", \"\\u0e40\\u0e17\\u0e35\\u0e22\\u0e1a\", \"\\u0e19\\u0e34\\u0e14\\u0e19\\u0e36\\u0e07\", \"net\", \"\\u0e0a\\u0e31\\u0e48\\u0e27\\u0e42\\u0e21\\u0e07_\\u0e19\\u0e32\\u0e17\\u0e35\", \"\\u0e1a\\u0e34\\u0e25\", \"\\u0e2a\\u0e32\\u0e23\", \"\\u0e40\\u0e0a\\u0e47\\u0e04\", \"\\u0e01\\u0e38\\u0e49\\u0e07\", \"\\u0e0b\\u0e48\\u0e32\", \"\\u0e40\\u0e25\\u0e48\\u0e19\", \"\\u0e40\\u0e1e\\u0e25\\u0e34\\u0e19\", \"\\u0e0b\\u0e39\\u0e0a\\u0e34\\u0e25\\u0e32\\u0e22\", \"\\u0e02\\u0e32\", \"\\u0e40\\u0e01\\u0e35\\u0e4a\\u0e22\\u0e27\", \"\\u0e32\\u0e19\", \"\\u0e2d\\u0e31\\u0e14\", \"\\u0e2d\\u0e34\\u0e48\\u0e21\\u0e04\\u0e38\\u0e49\\u0e21\", \"\\u0e1b\\u0e39\", \"\\u0e25\\u0e30\\u0e25\\u0e32\\u0e19\", \"\\u0e2e\\u0e48\\u0e32\", \"\\u0e40\\u0e17\\u0e21\\u0e1b\\u0e38\\u0e23\\u0e30\", \"\\u0e1a\\u0e39\\u0e0a\\u0e34\", \"\\u0e0a\\u0e21\", \"update\", \"\\u0e2a\\u0e14\", \"\\u0e2b\\u0e27\\u0e32\\u0e19\", \"\\u0e01\\u0e38\\u0e49\\u0e07_\\u0e40\\u0e17\\u0e21\\u0e1b\\u0e38\\u0e23\\u0e30\", \"\\u0e0a\\u0e37\\u0e48\\u0e19\", \"\\u0e42\\u0e14\\u0e19\", \"\\u0e2b\\u0e49\\u0e32\\u0e07\", \"\\u0e04\\u0e38\\u0e49\\u0e21\", \"shabushi\", \"\\u0e23\\u0e32\\u0e04\\u0e32\", \"\\u0e19\\u0e38\\u0e48\\u0e21\", \"\\u0e23\\u0e39\\u0e49\\u0e2a\\u0e36\\u0e01\", \"\\u0e2a\\u0e32\\u0e22\\u0e1e\\u0e32\\u0e19\", \"\\u0e18\\u0e23\\u0e23\\u0e21\\u0e14\\u0e32\", \"\\u0e15\\u0e34\\u0e14\", \"\\u0e40\\u0e21\\u0e19\\u0e39\", \"\\u0e2a\\u0e32\\u0e02\\u0e32\", \"\\u0e40\\u0e19\\u0e37\\u0e49\\u0e2d\", \"\\u0e1a\\u0e38\\u0e1f\\u0e40\\u0e1f\\u0e48\\u0e15\\u0e4c\", \"\\u0e19\\u0e49\\u0e33_\\u0e0b\\u0e38\\u0e1b\", \"\\u0e23\\u0e2a\\u0e0a\\u0e32\\u0e15\\u0e34\", \"\\u0e2d\\u0e23\\u0e48\\u0e2d\\u0e22\", \"\\u0e04\\u0e38\\u0e13\\u0e20\\u0e32\\u0e1e\", \"icecream\", \"\\u0e1e\\u0e19\\u0e31\\u0e01\\u0e07\\u0e32\\u0e19\", \"\\u0e0b\\u0e39\\u0e0a\\u0e34\", \"\\u0e2d\\u0e23\\u0e48\\u0e2d\\u0e22_\\u0e04\\u0e38\\u0e49\\u0e21\", \"\\u0e0a\\u0e31\\u0e48\\u0e27\\u0e42\\u0e21\\u0e07_\\u0e04\\u0e23\\u0e36\\u0e48\\u0e07\", \"\\u0e17\\u0e2d\\u0e14_\\u0e40\\u0e17\\u0e21\\u0e1b\\u0e38\\u0e23\\u0e30\", \"\\u0e0a\\u0e2d\\u0e1a_\\u0e01\\u0e38\\u0e49\\u0e07\", \"\\u0e1b\\u0e38\\u0e23\\u0e30\", \"\\u0e0a\\u0e32\\u0e1a\\u0e39\\u0e41\\u0e1f\\u0e23\\u0e19\\u0e44\\u0e0a\\u0e2a\\u0e4c\", \"\\u0e0a\\u0e19\\u0e34\\u0e14\", \"\\u0e42\\u0e21\\u0e42\\u0e21\", \"\\u0e2a\\u0e38\\u0e01\\u0e35\\u0e49\", \"\\u0e01\\u0e35\\u0e49\", \"\\u0e2a\\u0e32\\u0e21\", \"\\u0e02\\u0e22\\u0e31\\u0e19\\u0e40\\u0e14\\u0e34\\u0e19\", \"\\u0e1e\\u0e35\\u0e48\", \"\\u0e23\\u0e49\\u0e2d\\u0e22\", \"\\u0e1e\\u0e25\\u0e32\\u0e14\", \"\\u0e2b\\u0e25\\u0e48\\u0e30\", \"\\u0e04\\u0e23\\u0e32\\u0e1a\", \"\\u0e08\\u0e2d\\u0e07\", \"\\u0e2d\\u0e32\\u0e23\\u0e21\\u0e13\\u0e4c\", \"\\u0e2a\\u0e38\\u0e14\\u0e17\\u0e49\\u0e32\\u0e22\", \"\\u0e1b\\u0e23\\u0e30\\u0e15\\u0e39\\u0e1b\\u0e17\\u0e32\\u0e07\", \"\\u0e42\\u0e2d\\u0e40\\u0e04\\u0e19\\u0e30\", \"\\u0e15\\u0e34\\u0e14\\u0e41\\u0e15\\u0e48\", \"\\u0e1b\\u0e01\\u0e15\\u0e34\", \"\\u0e01\\u0e35\\u0e48\", \"\\u0e22\\u0e32\\u0e01\\u0e35\\u0e49\", \"\\u0e40\\u0e22\\u0e47\\u0e19\", \"\\u0e01\\u0e32\\u0e41\\u0e1f\", \"\\u0e40\\u0e02\\u0e35\\u0e22\\u0e27\", \"\\u0e01\\u0e38\\u0e49\\u0e07\\u0e40\\u0e17\\u0e21\", \"\\u0e44\\u0e02\\u0e48\\u0e44\\u0e01\\u0e48\", \"\\u0e1c\\u0e31\\u0e01\", \"\\u0e1a\\u0e38\\u0e1f\\u0e40\\u0e1f\\u0e15\\u0e4c\", \"\\u0e40\\u0e15\\u0e47\\u0e21\", \"\\u0e2b\\u0e21\\u0e39\", \"\\u0e19\\u0e49\\u0e33\\u0e08\\u0e34\\u0e49\\u0e21\", \"\\u0e0a\\u0e32\\u0e1a\\u0e39\", \"shabushi\", \"\\u0e23\\u0e2d\", \"\\u0e23\\u0e32\\u0e04\\u0e32\", \"\\u0e19\\u0e49\\u0e33_\\u0e0b\\u0e38\\u0e1b\", \"\\u0e23\\u0e2a\\u0e0a\\u0e32\\u0e15\\u0e34\", \"\\u0e40\\u0e19\\u0e37\\u0e49\\u0e2d\", \"\\u0e41\\u0e19\\u0e30\\u0e19\\u0e33\", \"\\u0e0b\\u0e39\\u0e0a\\u0e34\", \"\\u0e0d\\u0e35\\u0e48\\u0e1b\\u0e38\\u0e48\\u0e19\", \"\\u0e40\\u0e21\\u0e19\\u0e39\", \"\\u0e04\\u0e38\\u0e49\\u0e21\", \"\\u0e0a\\u0e32\\u0e1a\\u0e39\\u0e19\\u0e49\\u0e33\\u0e14\\u0e33\", \"\\u0e2a\\u0e32\\u0e02\\u0e32\", \"\\u0e1a\\u0e38\\u0e1f\\u0e40\\u0e1f\\u0e48\\u0e15\\u0e4c\", \"\\u0e2d\\u0e23\\u0e48\\u0e2d\\u0e22\", \"\\u0e2a\\u0e14\", \"\\u0e04\\u0e38\\u0e13\\u0e20\\u0e32\\u0e1e\", \"icecream\", \"\\u0e1e\\u0e19\\u0e31\\u0e01\\u0e07\\u0e32\\u0e19\", \"\\u0e19\\u0e49\\u0e33\", \"\\u0e19\\u0e31\\u0e48\\u0e07\", \"\\u0e01\\u0e38\\u0e49\\u0e07\", \"\\u0e17\\u0e2d\\u0e14\", \"\\u0e2b\\u0e27\\u0e32\\u0e19\"], \"Freq\": [5.0, 3.0, 4.0, 8.0, 2.0, 2.0, 9.0, 13.0, 5.0, 9.0, 4.0, 1.0, 1.0, 1.0, 1.0, 1.0, 1.0, 1.0, 1.0, 1.0, 7.0, 2.0, 2.0, 5.0, 7.0, 1.0, 1.0, 1.0, 1.0, 1.0, 3.5708904206672556, 1.6180689598179678, 1.620765150849045, 1.6243743647391216, 1.6253103122266326, 1.6481056005503676, 1.1195850826943043, 1.1201240237294094, 1.1214224492165061, 1.1220174282324178, 1.1347896302896492, 1.135767110977581, 1.1370368806790379, 1.137276457197991, 1.1380379935457443, 1.1382707775821754, 1.1384637972938423, 1.1390861585049208, 1.1398633317134799, 1.145306232864392, 1.1463352939664753, 1.1531699464841352, 0.6187735067163823, 0.618783624685139, 0.618793035103633, 0.6187960068147365, 0.6187991907909186, 0.6188016672168382, 0.6188041436427576, 0.618807115353861, 4.61971651480923, 6.466020528909317, 4.601395208306654, 5.858194098347509, 5.04049014657961, 1.3556053125170058, 1.3711674560151235, 1.3734781736630772, 4.62748315253293, 2.409803835803727, 2.3402672110852523, 2.8831309048468388, 2.9384412409631895, 2.5331026766637454, 2.1630221910153855, 2.256040710832527, 2.144464987255222, 1.767143007688145, 1.8826607767991046, 2.6809696437857413, 1.753739317021446, 1.6088867970386933, 1.6073788659188089, 1.5147991687745987, 1.507036634842423, 1.505656628810036, 1.6407622193938203, 1.8872827781352222, 1.753072946184027, 1.525136195092666, 1.6156454322546403, 1.0988194323749176, 1.117990223019703, 1.6768482042606225, 1.1237772809999658, 1.1244422947105697, 1.1252098331142177, 1.6840823410146422, 1.1442756546761386, 1.1720265329498396, 1.1723550589417195, 1.1711956499299851, 1.1724455712047885, 1.1736370366430267, 1.1765381781614563, 0.6144863571810254, 0.6145070297349362, 0.6145082170099919, 0.6145165279353817, 0.6145300069992492, 0.6145302165183767, 0.6145309149154683, 0.614536990970165, 0.6145406226350413, 0.6145528445841439, 0.614555079454837, 0.614570514030561, 0.6145717013056167, 0.6145794535133332, 0.6145880437975596, 2.4474351112134727, 1.895476525000578, 6.117106477802437, 1.8944063012974386, 3.7270986039178573, 2.662565440280533, 2.0811786354990858, 5.555867311677771, 5.022843388052998, 3.104149070781047, 2.058932732620358, 1.3567929310250466, 1.372075954580125, 2.170523457989764, 1.3548268035328264, 4.572381175006626, 2.1477814138171767, 4.520261755573753, 2.5610539817368316, 2.7614129329581063, 2.8411235072498355, 2.304928441791027, 2.1724182092992246, 1.7775412810924087, 1.8907584336086898, 1.6215301261483062, 1.7410179067910612, 1.3991072743303699, 1.503888628056856, 2.053138411310343, 1.5140796384172137, 1.6503251779136308, 1.5637374874610983, 2.0383138572367137, 0.8475957491746456, 1.2730117617855041, 1.2732980336230202, 0.8761555640488068, 0.8764949783659386, 0.8766660622726811, 0.8768067659363271, 0.8768673428560965, 0.8881559436383246, 0.888185956748574, 0.8885059130248103, 0.8900291472073738, 3.0277031039139937, 0.47385258339272807, 0.47387112360150596, 0.4738729133741355, 0.4738771812934829, 0.4738781909088124, 0.47388025603107725, 0.47388943435225445, 0.47389585917707844, 0.4739148124103093, 0.4739154548927917, 0.4739292223745575, 0.47392981896543396, 0.4739437241220174, 0.4739439535800468, 0.4739439994716527, 0.4739527647683769, 2.916838713114196, 2.2731993951109395, 1.0612487095368708, 1.0680616855634741, 1.0598640680040825, 1.0666470309204366, 2.1120783724398384, 2.1294536686939205, 3.154124932675523, 1.2379094560098307, 1.2345148539224535, 1.15969721814746, 1.1539919737037294, 1.1529428915931785, 1.6755866043148506, 2.19095943456639, 2.3866555602447472, 1.8721651337911813, 2.214985342345451, 2.1952398364305763, 2.2868844555525274, 1.3942583941512843, 1.3089726995073019, 1.1795141314010935, 1.019933322806734, 1.010275893264113, 0.7784362672234527, 0.7998896739569451, 0.8000645735679464, 0.8011999621919117, 0.8022425519027183, 0.8073836116917106, 0.8087892112994934, 0.8096968576125627, 0.8107053265002778, 0.4353745705045231, 0.4353848634844106, 0.4353850661021249, 0.4353922387692118, 0.4353949943701266, 0.4353965342647554, 0.43539706107081266, 0.43540492263812824, 0.4354103122693292, 0.43541509404738715, 0.43544017812042, 0.435444352045335, 0.44464935585399273, 0.4450060440782822, 0.445098518803098, 0.44520424472643033, 0.4452266542456342, 0.4453275983909085, 0.44543441844989823, 0.44541318411343744, 0.44545873257561663, 1.5080105432147897, 0.9392378187094281, 0.9627716230864757, 0.9749930373317629, 1.5380992737913566, 1.6306479135493332, 1.9572613473609968, 1.1306841648271513, 2.8979523403175302, 2.6438100759047574, 2.6283043095574237, 2.498624271661449, 1.0659364585098081, 1.2434184728036608, 1.2600510367838726, 1.5400285186200289, 1.6337933509464417, 1.169484565601549, 2.013668011803544, 1.7200374999997987, 2.1006545521621707, 1.4553981791376904, 1.281433446270267, 1.2025815208590867, 1.0833644185893558, 1.0348903997566206, 0.9682555120480979, 0.9459441408650877, 0.9032807117965447, 0.8638717284554145], \"Total\": [5.0, 3.0, 4.0, 8.0, 2.0, 2.0, 9.0, 13.0, 5.0, 9.0, 4.0, 1.0, 1.0, 1.0, 1.0, 1.0, 1.0, 1.0, 1.0, 1.0, 7.0, 2.0, 2.0, 5.0, 7.0, 1.0, 1.0, 1.0, 1.0, 1.0, 4.865919582208424, 2.3888534295527157, 2.3981262205128595, 2.4108708247172634, 2.414196510206672, 2.493424295215988, 1.733914944060316, 1.7357888675854027, 1.7403025090564481, 1.7423715892502212, 1.7868726935889245, 1.7903186461173386, 1.7947356218465356, 1.7953874261446456, 1.798243886239092, 1.7988464193540166, 1.7997726225962947, 1.8019181430648619, 1.8046497746015822, 1.8233615163257395, 1.8269658186066395, 1.8506677828745004, 1.0711174021780412, 1.071152599039776, 1.0711851305641364, 1.0711955779856441, 1.0712064790002218, 1.071215344947107, 1.071223872371104, 1.0712341723266237, 9.77565663606131, 16.409426848301784, 11.647146161926424, 16.430533126914316, 14.436415467574237, 2.8569143180174112, 2.93810274683508, 2.9460741319579853, 14.509121958836136, 6.200918672937165, 6.059252128755693, 8.289345977862578, 9.363816544525418, 7.32049897814373, 5.572192379660576, 8.035881622035125, 7.217073189358443, 4.921409662595318, 5.726248409176954, 13.683355953494374, 5.126781742362114, 4.166198512148006, 4.160879515787796, 3.7151186099109945, 3.7419241066475672, 3.7371446953915854, 4.833564565107281, 7.938082943312529, 7.141106278418131, 4.0020889015829795, 2.4107799598992417, 1.682404824789782, 1.7494657409050152, 2.6268519012505154, 1.769784835889279, 1.7721233476382052, 1.7748225630621826, 2.6577842926829245, 1.8418094473316153, 1.939957650848939, 1.9411816279338432, 1.940005960270562, 1.944078110147841, 1.948537086635086, 1.959594486431063, 1.068100132384132, 1.0681722133682525, 1.0681763964820745, 1.068205536013066, 1.068252528996185, 1.0682533366923388, 1.0682556780905879, 1.0682770767909682, 1.0682896423614934, 1.0683324953948732, 1.0683402400294981, 1.068394116074913, 1.0683983133456683, 1.068425460052258, 1.068455264198636, 4.67551020127077, 3.7205668928029088, 13.683355953494374, 3.8180139718884982, 8.289345977862578, 5.727542795406476, 4.650901230849128, 16.409426848301784, 14.509121958836136, 8.035881622035125, 4.833564565107281, 2.8894622370900374, 2.942929609390717, 5.26478475559764, 2.910629455608788, 14.436415467574237, 5.572192379660576, 16.430533126914316, 7.217073189358443, 8.324215061774101, 11.647146161926424, 7.938082943312529, 7.141106278418131, 5.099512469232022, 6.059252128755693, 4.247305653204256, 5.126781742362114, 3.0399261195062164, 3.7616562480849867, 9.363816544525418, 4.0020889015829795, 7.32049897814373, 9.77565663606131, 3.35256231600042, 1.4859502453979703, 2.2375566316005884, 2.238856079552884, 1.6155438524110555, 1.6170719010905812, 1.61785011551947, 1.618500048334584, 1.6187726973626542, 1.6702546819334119, 1.6703280193170105, 1.6718496722623317, 1.6788448108869645, 5.786649322533042, 0.9693029901365207, 0.9693866905397974, 0.9693949015080883, 0.9694143729688998, 0.9694189411037772, 0.9694281249228358, 0.9694697332494887, 0.9694990461121886, 0.9695847052678045, 0.969587838058958, 0.9696500269867613, 0.9696528353375082, 0.9697160131975564, 0.9697168670575064, 0.969717191726742, 0.9697569678565403, 9.363816544525418, 7.32049897814373, 2.7586594837104106, 2.7899760404520775, 2.8816583830897677, 2.908696568526685, 7.938082943312529, 8.324215061774101, 16.430533126914316, 4.114950115491638, 4.099593607335548, 3.7616562480849867, 3.7419241066475672, 3.7371446953915854, 7.141106278418131, 11.647146161926424, 13.683355953494374, 9.77565663606131, 14.509121958836136, 14.436415467574237, 16.409426848301784, 8.035881622035125, 7.217073189358443, 6.200918672937165, 4.921409662595318, 5.126781742362114, 1.4298734367787298, 1.5360245230895242, 1.5368993221735496, 1.5425643902511572, 1.5474365621813808, 1.5728756004358533, 1.5799801997405656, 1.584275248412029, 1.5894863870483888, 0.9420609678963678, 0.9421116720125939, 0.9421127592527915, 0.9421481601352464, 0.9421617825098205, 0.9421692798727899, 0.9421720315820826, 0.942210794065119, 0.942237241595641, 0.942261014882106, 0.9423847310112838, 0.9424053267715371, 0.9878638902173398, 0.9896285915883547, 0.9901590281880366, 0.9906087964588086, 0.9907963818294527, 0.9912185579807629, 0.9917508620299025, 0.9917228915254436, 0.9918677775035546, 4.6871087830183775, 2.6481265953637783, 2.771999502991241, 2.8326850632701053, 5.26478475559764, 5.726248409176954, 8.324215061774101, 3.9246612603664097, 16.430533126914316, 14.509121958836136, 14.436415467574237, 13.683355953494374, 3.7151186099109945, 4.921409662595318, 5.099512469232022, 7.141106278418131, 7.938082943312529, 4.650901230849128, 11.647146161926424, 9.77565663606131, 16.409426848301784, 9.363816544525418, 8.035881622035125, 7.217073189358443, 6.200918672937165, 6.059252128755693, 5.727542795406476, 5.786649322533042, 4.442268415814685, 7.32049897814373], \"Category\": [\"Default\", \"Default\", \"Default\", \"Default\", \"Default\", \"Default\", \"Default\", \"Default\", \"Default\", \"Default\", \"Default\", \"Default\", \"Default\", \"Default\", \"Default\", \"Default\", \"Default\", \"Default\", \"Default\", \"Default\", \"Default\", \"Default\", \"Default\", \"Default\", \"Default\", \"Default\", \"Default\", \"Default\", \"Default\", \"Default\", \"Topic1\", \"Topic1\", \"Topic1\", \"Topic1\", \"Topic1\", \"Topic1\", \"Topic1\", \"Topic1\", \"Topic1\", \"Topic1\", \"Topic1\", \"Topic1\", \"Topic1\", \"Topic1\", \"Topic1\", \"Topic1\", \"Topic1\", \"Topic1\", \"Topic1\", \"Topic1\", \"Topic1\", \"Topic1\", \"Topic1\", \"Topic1\", \"Topic1\", \"Topic1\", \"Topic1\", \"Topic1\", \"Topic1\", \"Topic1\", \"Topic1\", \"Topic1\", \"Topic1\", \"Topic1\", \"Topic1\", \"Topic1\", \"Topic1\", \"Topic1\", \"Topic1\", \"Topic1\", \"Topic1\", \"Topic1\", \"Topic1\", \"Topic1\", \"Topic1\", \"Topic1\", \"Topic1\", \"Topic1\", \"Topic1\", \"Topic1\", \"Topic1\", \"Topic1\", \"Topic1\", \"Topic1\", \"Topic1\", \"Topic1\", \"Topic1\", \"Topic1\", \"Topic1\", \"Topic1\", \"Topic2\", \"Topic2\", \"Topic2\", \"Topic2\", \"Topic2\", \"Topic2\", \"Topic2\", \"Topic2\", \"Topic2\", \"Topic2\", \"Topic2\", \"Topic2\", \"Topic2\", \"Topic2\", \"Topic2\", \"Topic2\", \"Topic2\", \"Topic2\", \"Topic2\", \"Topic2\", \"Topic2\", \"Topic2\", \"Topic2\", \"Topic2\", \"Topic2\", \"Topic2\", \"Topic2\", \"Topic2\", \"Topic2\", \"Topic2\", \"Topic2\", \"Topic2\", \"Topic2\", \"Topic2\", \"Topic2\", \"Topic2\", \"Topic2\", \"Topic2\", \"Topic2\", \"Topic2\", \"Topic2\", \"Topic2\", \"Topic2\", \"Topic2\", \"Topic2\", \"Topic2\", \"Topic2\", \"Topic2\", \"Topic2\", \"Topic2\", \"Topic2\", \"Topic2\", \"Topic2\", \"Topic2\", \"Topic2\", \"Topic2\", \"Topic2\", \"Topic2\", \"Topic2\", \"Topic2\", \"Topic2\", \"Topic2\", \"Topic2\", \"Topic3\", \"Topic3\", \"Topic3\", \"Topic3\", \"Topic3\", \"Topic3\", \"Topic3\", \"Topic3\", \"Topic3\", \"Topic3\", \"Topic3\", \"Topic3\", \"Topic3\", \"Topic3\", \"Topic3\", \"Topic3\", \"Topic3\", \"Topic3\", \"Topic3\", \"Topic3\", \"Topic3\", \"Topic3\", \"Topic3\", \"Topic3\", \"Topic3\", \"Topic3\", \"Topic3\", \"Topic3\", \"Topic3\", \"Topic3\", \"Topic3\", \"Topic3\", \"Topic3\", \"Topic3\", \"Topic3\", \"Topic3\", \"Topic3\", \"Topic3\", \"Topic3\", \"Topic3\", \"Topic3\", \"Topic3\", \"Topic3\", \"Topic3\", \"Topic3\", \"Topic3\", \"Topic3\", \"Topic3\", \"Topic3\", \"Topic3\", \"Topic3\", \"Topic3\", \"Topic3\", \"Topic3\", \"Topic3\", \"Topic3\", \"Topic4\", \"Topic4\", \"Topic4\", \"Topic4\", \"Topic4\", \"Topic4\", \"Topic4\", \"Topic4\", \"Topic4\", \"Topic4\", \"Topic4\", \"Topic4\", \"Topic4\", \"Topic4\", \"Topic4\", \"Topic4\", \"Topic4\", \"Topic4\", \"Topic4\", \"Topic4\", \"Topic4\", \"Topic4\", \"Topic4\", \"Topic4\", \"Topic4\", \"Topic4\", \"Topic4\", \"Topic4\", \"Topic4\", \"Topic4\", \"Topic4\", \"Topic4\", \"Topic4\", \"Topic4\", \"Topic4\", \"Topic4\", \"Topic4\", \"Topic4\", \"Topic4\", \"Topic4\", \"Topic4\", \"Topic4\", \"Topic4\", \"Topic4\", \"Topic4\", \"Topic4\", \"Topic4\", \"Topic4\", \"Topic4\", \"Topic4\", \"Topic4\", \"Topic4\", \"Topic4\", \"Topic4\", \"Topic4\", \"Topic4\", \"Topic4\", \"Topic4\", \"Topic4\", \"Topic4\"], \"logprob\": [30.0, 29.0, 28.0, 27.0, 26.0, 25.0, 24.0, 23.0, 22.0, 21.0, 20.0, 19.0, 18.0, 17.0, 16.0, 15.0, 14.0, 13.0, 12.0, 11.0, 10.0, 9.0, 8.0, 7.0, 6.0, 5.0, 4.0, 3.0, 2.0, 1.0, -4.4439, -5.2354, -5.2338, -5.2315, -5.231, -5.217, -5.6037, -5.6032, -5.6021, -5.6015, -5.5902, -5.5894, -5.5882, -5.588, -5.5874, -5.5872, -5.587, -5.5864, -5.5858, -5.581, -5.5801, -5.5742, -6.1967, -6.1967, -6.1967, -6.1966, -6.1966, -6.1966, -6.1966, -6.1966, -4.1863, -3.8501, -4.1903, -3.9488, -4.0992, -5.4124, -5.401, -5.3993, -4.1847, -4.8371, -4.8664, -4.6578, -4.6388, -4.7872, -4.9452, -4.9031, -4.9538, -5.1473, -5.084, -4.7305, -5.1549, -5.2411, -5.2421, -5.3014, -5.3065, -5.3074, -5.2215, -5.0815, -5.1553, -5.2946, -5.2239, -5.6094, -5.5921, -5.1867, -5.587, -5.5864, -5.5857, -5.1824, -5.5689, -5.5449, -5.5446, -5.5456, -5.5446, -5.5435, -5.5411, -6.1906, -6.1906, -6.1906, -6.1906, -6.1905, -6.1905, -6.1905, -6.1905, -6.1905, -6.1905, -6.1905, -6.1905, -6.1905, -6.1905, -6.1904, -4.8086, -5.0642, -3.8926, -5.0647, -4.388, -4.7244, -4.9707, -3.9888, -4.0897, -4.5709, -4.9815, -5.3985, -5.3873, -4.9287, -5.4, -4.1836, -4.9392, -4.1951, -4.7632, -4.6879, -4.6594, -4.8686, -4.9278, -5.1284, -5.0667, -5.2203, -5.1492, -5.3678, -5.2956, -4.9843, -5.2888, -5.2027, -5.2566, -4.5716, -5.4491, -5.0423, -5.0421, -5.4159, -5.4156, -5.4154, -5.4152, -5.4151, -5.4023, -5.4023, -5.4019, -5.4002, -4.1759, -6.0306, -6.0305, -6.0305, -6.0305, -6.0305, -6.0305, -6.0305, -6.0305, -6.0305, -6.0305, -6.0304, -6.0304, -6.0304, -6.0304, -6.0304, -6.0304, -4.2132, -4.4625, -5.2243, -5.2179, -5.2256, -5.2192, -4.5361, -4.5279, -4.135, -5.0703, -5.073, -5.1356, -5.1405, -5.1414, -4.7676, -4.4994, -4.4138, -4.6566, -4.4885, -4.4974, -4.4565, -4.9514, -5.0145, -5.1186, -5.264, -5.2735, -5.4098, -5.3826, -5.3824, -5.381, -5.3797, -5.3733, -5.3715, -5.3704, -5.3692, -5.9909, -5.9909, -5.9909, -5.9908, -5.9908, -5.9908, -5.9908, -5.9908, -5.9908, -5.9908, -5.9907, -5.9907, -5.9698, -5.969, -5.9688, -5.9685, -5.9685, -5.9683, -5.968, -5.9681, -5.968, -4.7485, -5.222, -5.1973, -5.1847, -4.7288, -4.6703, -4.4878, -5.0365, -4.0953, -4.1871, -4.193, -4.2436, -5.0955, -4.9415, -4.9282, -4.7275, -4.6684, -5.0028, -4.4594, -4.617, -4.4171, -4.784, -4.9113, -4.9749, -5.0793, -5.125, -5.1916, -5.2149, -5.261, -5.3057], \"loglift\": [30.0, 29.0, 28.0, 27.0, 26.0, 25.0, 24.0, 23.0, 22.0, 21.0, 20.0, 19.0, 18.0, 17.0, 16.0, 15.0, 14.0, 13.0, 12.0, 11.0, 10.0, 9.0, 8.0, 7.0, 6.0, 5.0, 4.0, 3.0, 2.0, 1.0, 0.8563, 0.7762, 0.774, 0.7709, 0.7701, 0.7517, 0.7283, 0.7277, 0.7263, 0.7257, 0.7118, 0.7107, 0.7093, 0.7092, 0.7083, 0.7081, 0.7078, 0.7071, 0.7063, 0.7008, 0.6997, 0.6927, 0.6171, 0.617, 0.617, 0.617, 0.617, 0.617, 0.617, 0.617, 0.4162, 0.2345, 0.2371, 0.1345, 0.1135, 0.4203, 0.4037, 0.4026, 0.023, 0.2206, 0.2144, 0.1097, 0.0068, 0.1045, 0.2195, -0.1045, -0.0478, 0.1415, 0.0534, -0.4642, 0.093, 0.2143, 0.2146, 0.2686, 0.2563, 0.2567, 0.0853, -0.2708, -0.2387, 0.201, 0.7786, 0.7528, 0.731, 0.7299, 0.7246, 0.7239, 0.7231, 0.7225, 0.7028, 0.6749, 0.6745, 0.6741, 0.6731, 0.6718, 0.6686, 0.6259, 0.6259, 0.6259, 0.6259, 0.6259, 0.6259, 0.6259, 0.6259, 0.6259, 0.6258, 0.6258, 0.6258, 0.6258, 0.6258, 0.6258, 0.5315, 0.5044, 0.3737, 0.478, 0.3794, 0.4128, 0.3747, 0.0958, 0.118, 0.2276, 0.3254, 0.4228, 0.4157, 0.2927, 0.4141, 0.0291, 0.2254, -0.1118, 0.1428, 0.0754, -0.2321, -0.0578, -0.0112, 0.1249, 0.0142, 0.2159, 0.0988, 0.4028, 0.262, -0.3387, 0.2068, -0.3109, -0.654, 1.1011, 1.0373, 1.0347, 1.0344, 0.9868, 0.9863, 0.986, 0.9857, 0.9856, 0.9671, 0.9671, 0.9666, 0.9641, 0.951, 0.883, 0.883, 0.883, 0.883, 0.883, 0.883, 0.8829, 0.8829, 0.8829, 0.8829, 0.8828, 0.8828, 0.8828, 0.8828, 0.8828, 0.8828, 0.4324, 0.4292, 0.6434, 0.6385, 0.5985, 0.5955, 0.2747, 0.2354, -0.0517, 0.3975, 0.3985, 0.422, 0.4223, 0.4227, 0.149, -0.072, -0.1476, -0.0541, -0.2808, -0.2848, -0.372, -0.1528, -0.1085, -0.0609, 0.0249, -0.0255, 1.1151, 1.0706, 1.0703, 1.068, 1.0662, 1.0562, 1.0535, 1.0519, 1.0498, 0.9512, 0.9512, 0.9512, 0.9512, 0.9512, 0.9512, 0.9512, 0.9512, 0.9511, 0.9511, 0.9511, 0.951, 0.9249, 0.9239, 0.9235, 0.9233, 0.9232, 0.923, 0.9227, 0.9227, 0.9226, 0.5891, 0.6866, 0.6656, 0.6566, 0.4926, 0.467, 0.2755, 0.4787, -0.012, 0.0206, 0.0197, 0.0227, 0.4746, 0.3474, 0.3251, 0.189, 0.1423, 0.3426, -0.032, -0.0144, -0.3325, -0.1385, -0.1128, -0.0689, -0.0215, -0.0442, -0.0544, -0.088, 0.1302, -0.4139]}, \"token.table\": {\"Topic\": [1, 2, 3, 4, 1, 1, 3, 1, 2, 1, 1, 2, 3, 4, 1, 1, 4, 1, 2, 3, 4, 1, 2, 3, 4, 3, 2, 1, 2, 4, 1, 2, 3, 4, 1, 2, 3, 4, 2, 4, 1, 2, 3, 1, 1, 3, 1, 1, 2, 3, 1, 4, 1, 2, 3, 4, 4, 4, 3, 1, 1, 2, 3, 4, 1, 2, 3, 4, 2, 4, 1, 2, 3, 4, 1, 1, 2, 3, 4, 1, 1, 2, 3, 4, 1, 1, 3, 1, 2, 3, 2, 2, 1, 2, 3, 4, 4, 1, 4, 1, 2, 3, 1, 2, 3, 4, 3, 1, 2, 3, 4, 2, 1, 2, 3, 4, 1, 2, 3, 4, 1, 2, 3, 4, 2, 1, 2, 3, 4, 3, 2, 2, 4, 1, 2, 3, 4, 1, 1, 2, 1, 3, 4, 1, 2, 3, 4, 1, 1, 2, 3, 4, 2, 2, 3, 1, 2, 3, 4, 2, 1, 2, 3, 4, 1, 2, 3, 4, 1, 1, 1, 2, 3, 4, 2, 1, 2, 3, 4, 1, 1, 2, 2, 2, 1, 2, 3, 4, 1, 2, 3, 4, 1, 2, 3, 3, 4, 1, 2, 1, 2, 4, 1, 2, 3, 4, 1, 2, 3, 4, 1, 2, 3, 4, 1, 1, 2, 3, 4, 2, 1, 2, 3, 1, 2, 3, 4, 1, 2, 3, 4, 1, 1, 2, 3, 2, 2, 1, 4, 3, 1, 2, 3, 4, 3, 2, 3, 1, 2, 3, 4, 2, 3, 1, 1, 2, 4, 2, 2, 2, 1, 2, 4, 1, 1, 1, 3, 1, 2, 3, 2, 2, 1, 4, 2, 1, 2, 1, 2, 3, 4, 2, 2, 2], \"Freq\": [0.2771206481526327, 0.4156809722289491, 0.13856032407631635, 0.13856032407631635, 0.9336044750711463, 0.8295757613784851, 0.61775195592885, 0.8220440006089411, 0.20551100015223528, 0.8372217295786439, 0.12013144693871888, 0.3603943408161567, 0.24026289387743777, 0.24026289387743777, 0.9335191142630399, 0.80210977483347, 0.6291340449017365, 0.17281157786873821, 0.17281157786873821, 0.5184347336062146, 0.17281157786873821, 0.3624949022903672, 0.3624949022903672, 0.3624949022903672, 0.3624949022903672, 0.618986602256317, 0.9359805116768855, 0.33979745788314414, 0.33979745788314414, 0.33979745788314414, 0.24888370611580643, 0.37332555917370963, 0.12444185305790322, 0.12444185305790322, 0.2519500003064226, 0.2519500003064226, 0.2519500003064226, 0.2519500003064226, 0.34608515977945253, 0.34608515977945253, 0.4997390235906362, 0.4997390235906362, 0.2498695117953181, 0.9335027072820974, 0.33943477156679414, 0.33943477156679414, 0.576729558405152, 0.26877624534433375, 0.5375524906886675, 0.26877624534433375, 0.5484375923514623, 0.6357781885121073, 0.23544338026286835, 0.4708867605257367, 0.23544338026286835, 0.23544338026286835, 0.6506607072906745, 0.6993625969112595, 0.5987110892827703, 0.5596369587983938, 0.34926881565158374, 0.17463440782579187, 0.17463440782579187, 0.34926881565158374, 0.21501209128395685, 0.4300241825679137, 0.21501209128395685, 0.21501209128395685, 0.9361494265723111, 0.6462300455085062, 0.3584260171058543, 0.3584260171058543, 0.3584260171058543, 0.3584260171058543, 0.5541241375882879, 0.4063876281628819, 0.20319381408144094, 0.20319381408144094, 0.20319381408144094, 0.5473556154228784, 0.19609717713869976, 0.3921943542773995, 0.19609717713869976, 0.19609717713869976, 0.5569828469543012, 0.9335454455695749, 0.6729700426356994, 0.5351679324769725, 0.26758396623848624, 0.26758396623848624, 0.5716030766528132, 0.9359567301504484, 0.22511021541155704, 0.22511021541155704, 0.22511021541155704, 0.22511021541155704, 0.6510312725923302, 0.35002799828241316, 0.35002799828241316, 0.5344843837016842, 0.2672421918508421, 0.2672421918508421, 0.17459494162173803, 0.523784824865214, 0.17459494162173803, 0.17459494162173803, 0.6178560210912488, 0.24301631172520885, 0.24301631172520885, 0.24301631172520885, 0.24301631172520885, 0.56429480562555, 0.3300737380622438, 0.3300737380622438, 0.1650368690311219, 0.1650368690311219, 0.34461079134805755, 0.34461079134805755, 0.13784431653922302, 0.20676647480883453, 0.18994128847086808, 0.37988257694173616, 0.18994128847086808, 0.37988257694173616, 0.5943872635558751, 0.36191033743937845, 0.48254711658583793, 0.12063677914645948, 0.12063677914645948, 0.5986848022874546, 0.9360867341681918, 0.37762545104556383, 0.37762545104556383, 0.5114745930780298, 0.2045898372312119, 0.2045898372312119, 0.2045898372312119, 0.5761069325159726, 0.9335737978850445, 0.8296070289565497, 0.9335268406267667, 0.44691606276113394, 0.6482711556936577, 0.2133511395389517, 0.2133511395389517, 0.2133511395389517, 0.4267022790779034, 0.5746127439316151, 0.3225328544831032, 0.3225328544831032, 0.1612664272415516, 0.1612664272415516, 0.9361749644472521, 0.34356829519229876, 0.34356829519229876, 0.3463463635575289, 0.3463463635575289, 0.13853854542301156, 0.20780781813451732, 0.563436605332904, 0.25479906001024893, 0.25479906001024893, 0.25479906001024893, 0.25479906001024893, 0.3651737867331643, 0.3043114889443036, 0.18258689336658215, 0.18258689336658215, 0.5556257426326621, 0.9335116830308745, 0.24392661707020535, 0.24392661707020535, 0.24392661707020535, 0.24392661707020535, 0.935930621999435, 0.32038218452218165, 0.21358812301478777, 0.32038218452218165, 0.10679406150739389, 0.9335363406563668, 0.5739303867037461, 0.542944331971358, 0.936031390123795, 0.5650404386573475, 0.3589251525665788, 0.3589251525665788, 0.1794625762832894, 0.1794625762832894, 0.42928971015617495, 0.257573826093705, 0.17171588406247, 0.17171588406247, 0.2658403463923871, 0.5316806927847741, 0.2658403463923871, 0.5981399025229398, 0.6312034483921483, 0.26191627567705617, 0.5238325513541123, 0.3530219483155607, 0.3530219483155607, 0.3530219483155607, 0.21388040169994865, 0.4277608033998973, 0.21388040169994865, 0.21388040169994865, 0.4800539374608055, 0.24002696873040275, 0.24002696873040275, 0.24002696873040275, 0.48066760703147443, 0.24033380351573722, 0.24033380351573722, 0.24033380351573722, 0.5549641662962067, 0.40980813042346936, 0.2732054202823129, 0.2732054202823129, 0.13660271014115646, 0.5151501464931857, 0.34379660320035405, 0.34379660320035405, 0.34379660320035405, 0.36564348380156503, 0.36564348380156503, 0.12188116126718834, 0.12188116126718834, 0.39010827854718066, 0.39010827854718066, 0.19505413927359033, 0.19505413927359033, 0.5559118272915761, 0.5560980952875273, 0.9361054853341957, 0.5956476700617025, 0.9361075370907116, 0.9362418088722412, 0.36075042543150115, 0.36075042543150115, 0.6181042300565114, 0.21924446094920727, 0.43848892189841454, 0.14616297396613817, 0.14616297396613817, 0.6184016921731079, 0.5132055257551666, 0.44665666950762967, 0.2800686507137423, 0.2800686507137423, 0.2800686507137423, 0.2800686507137423, 0.9360757236113076, 0.5965586353025599, 0.540345495422618, 0.3289553629554763, 0.3289553629554763, 0.3289553629554763, 0.9360381756715016, 0.7525065166146655, 0.9361082448732225, 0.5383408203077304, 0.2691704101538652, 0.2691704101538652, 0.5571851295686313, 0.558559786085398, 0.34035569418979594, 0.34035569418979594, 0.34702239719608313, 0.34702239719608313, 0.34702239719608313, 0.761367627557495, 0.9361786306411342, 0.8339844595720584, 0.6329193240296309, 0.9359841887503267, 0.8284329761659651, 0.5154751700700235, 0.41377330809599105, 0.41377330809599105, 0.20688665404799553, 0.20688665404799553, 0.5103096619858647, 0.5143826242269418, 0.5154623338685699], \"Term\": [\"icecream\", \"icecream\", \"icecream\", \"icecream\", \"mall\", \"narai\", \"net\", \"pizza\", \"pizza\", \"pizzeria\", \"shabushi\", \"shabushi\", \"shabushi\", \"shabushi\", \"union\", \"vat\", \"\\u0e01\\u0e35\\u0e49\", \"\\u0e01\\u0e38\\u0e49\\u0e07\", \"\\u0e01\\u0e38\\u0e49\\u0e07\", \"\\u0e01\\u0e38\\u0e49\\u0e07\", \"\\u0e01\\u0e38\\u0e49\\u0e07\", \"\\u0e01\\u0e38\\u0e49\\u0e07_\\u0e40\\u0e17\\u0e21\\u0e1b\\u0e38\\u0e23\\u0e30\", \"\\u0e01\\u0e38\\u0e49\\u0e07_\\u0e40\\u0e17\\u0e21\\u0e1b\\u0e38\\u0e23\\u0e30\", \"\\u0e01\\u0e38\\u0e49\\u0e07_\\u0e40\\u0e17\\u0e21\\u0e1b\\u0e38\\u0e23\\u0e30\", \"\\u0e01\\u0e38\\u0e49\\u0e07_\\u0e40\\u0e17\\u0e21\\u0e1b\\u0e38\\u0e23\\u0e30\", \"\\u0e01\\u0e38\\u0e49\\u0e07\\u0e2a\\u0e14\", \"\\u0e02\\u0e49\\u0e2d\", \"\\u0e04\\u0e2d\", \"\\u0e04\\u0e2d\", \"\\u0e04\\u0e2d\", \"\\u0e04\\u0e38\\u0e13\\u0e20\\u0e32\\u0e1e\", \"\\u0e04\\u0e38\\u0e13\\u0e20\\u0e32\\u0e1e\", \"\\u0e04\\u0e38\\u0e13\\u0e20\\u0e32\\u0e1e\", \"\\u0e04\\u0e38\\u0e13\\u0e20\\u0e32\\u0e1e\", \"\\u0e04\\u0e38\\u0e49\\u0e21\", \"\\u0e04\\u0e38\\u0e49\\u0e21\", \"\\u0e04\\u0e38\\u0e49\\u0e21\", \"\\u0e04\\u0e38\\u0e49\\u0e21\", \"\\u0e04\\u0e38\\u0e49\\u0e21_\\u0e04\\u0e48\\u0e32\", \"\\u0e04\\u0e38\\u0e49\\u0e21_\\u0e04\\u0e48\\u0e32\", \"\\u0e04\\u0e48\\u0e32\", \"\\u0e04\\u0e48\\u0e32\", \"\\u0e04\\u0e48\\u0e32\", \"\\u0e07\\u0e07\", \"\\u0e07\\u0e32\\u0e19\", \"\\u0e07\\u0e32\\u0e19\", \"\\u0e08\\u0e1a\", \"\\u0e08\\u0e32\\u0e19\", \"\\u0e08\\u0e32\\u0e19\", \"\\u0e08\\u0e32\\u0e19\", \"\\u0e08\\u0e48\\u0e32\\u0e22_\\u0e23\\u0e32\\u0e04\\u0e32\", \"\\u0e0a\\u0e19\\u0e34\\u0e14\", \"\\u0e0a\\u0e2d\\u0e1a\", \"\\u0e0a\\u0e2d\\u0e1a\", \"\\u0e0a\\u0e2d\\u0e1a\", \"\\u0e0a\\u0e2d\\u0e1a\", \"\\u0e0a\\u0e2d\\u0e1a_\\u0e01\\u0e38\\u0e49\\u0e07\", \"\\u0e0a\\u0e31\\u0e48\\u0e27\\u0e42\\u0e21\\u0e07_\\u0e04\\u0e23\\u0e36\\u0e48\\u0e07\", \"\\u0e0a\\u0e31\\u0e48\\u0e27\\u0e42\\u0e21\\u0e07_\\u0e19\\u0e32\\u0e17\\u0e35\", \"\\u0e0a\\u0e31\\u0e49\\u0e19\", \"\\u0e0a\\u0e32\\u0e1a\\u0e39\", \"\\u0e0a\\u0e32\\u0e1a\\u0e39\", \"\\u0e0a\\u0e32\\u0e1a\\u0e39\", \"\\u0e0a\\u0e32\\u0e1a\\u0e39\", \"\\u0e0a\\u0e32\\u0e1a\\u0e39\\u0e19\\u0e49\\u0e33\\u0e14\\u0e33\", \"\\u0e0a\\u0e32\\u0e1a\\u0e39\\u0e19\\u0e49\\u0e33\\u0e14\\u0e33\", \"\\u0e0a\\u0e32\\u0e1a\\u0e39\\u0e19\\u0e49\\u0e33\\u0e14\\u0e33\", \"\\u0e0a\\u0e32\\u0e1a\\u0e39\\u0e19\\u0e49\\u0e33\\u0e14\\u0e33\", \"\\u0e0a\\u0e32\\u0e1a\\u0e39\\u0e2b\\u0e2d\\u0e21\", \"\\u0e0a\\u0e32\\u0e1a\\u0e39\\u0e41\\u0e1f\\u0e23\\u0e19\\u0e44\\u0e0a\\u0e2a\\u0e4c\", \"\\u0e0a\\u0e37\\u0e48\\u0e19\", \"\\u0e0a\\u0e37\\u0e48\\u0e19\", \"\\u0e0a\\u0e37\\u0e48\\u0e19\", \"\\u0e0a\\u0e37\\u0e48\\u0e19\", \"\\u0e0a\\u0e38\\u0e14_\\u0e1a\\u0e38\\u0e1f\\u0e40\\u0e1f\\u0e48\\u0e15\\u0e4c\", \"\\u0e0b\\u0e39\\u0e0a\\u0e34\", \"\\u0e0b\\u0e39\\u0e0a\\u0e34\", \"\\u0e0b\\u0e39\\u0e0a\\u0e34\", \"\\u0e0b\\u0e39\\u0e0a\\u0e34\", \"\\u0e0b\\u0e39\\u0e0a\\u0e34_\\u0e2b\\u0e27\\u0e32\\u0e19\", \"\\u0e0d\\u0e35\\u0e48\\u0e1b\\u0e38\\u0e48\\u0e19\", \"\\u0e0d\\u0e35\\u0e48\\u0e1b\\u0e38\\u0e48\\u0e19\", \"\\u0e0d\\u0e35\\u0e48\\u0e1b\\u0e38\\u0e48\\u0e19\", \"\\u0e0d\\u0e35\\u0e48\\u0e1b\\u0e38\\u0e48\\u0e19\", \"\\u0e14\\u0e37\\u0e48\\u0e21\", \"\\u0e15\\u0e31\\u0e14\", \"\\u0e15\\u0e32\", \"\\u0e15\\u0e34\\u0e14\", \"\\u0e15\\u0e34\\u0e14\", \"\\u0e15\\u0e34\\u0e14\", \"\\u0e15\\u0e49\\u0e2d\\u0e07\\u0e01\\u0e32\\u0e23\", \"\\u0e16\\u0e49\\u0e27\\u0e22\", \"\\u0e17\\u0e2d\\u0e14\", \"\\u0e17\\u0e2d\\u0e14\", \"\\u0e17\\u0e2d\\u0e14\", \"\\u0e17\\u0e2d\\u0e14\", \"\\u0e17\\u0e2d\\u0e14_\\u0e40\\u0e17\\u0e21\\u0e1b\\u0e38\\u0e23\\u0e30\", \"\\u0e17\\u0e49\\u0e32\\u0e22\", \"\\u0e17\\u0e49\\u0e32\\u0e22\", \"\\u0e18\\u0e23\\u0e23\\u0e21\\u0e14\\u0e32\", \"\\u0e18\\u0e23\\u0e23\\u0e21\\u0e14\\u0e32\", \"\\u0e18\\u0e23\\u0e23\\u0e21\\u0e14\\u0e32\", \"\\u0e19\\u0e31\\u0e48\\u0e07\", \"\\u0e19\\u0e31\\u0e48\\u0e07\", \"\\u0e19\\u0e31\\u0e48\\u0e07\", \"\\u0e19\\u0e31\\u0e48\\u0e07\", \"\\u0e19\\u0e34\\u0e14\\u0e19\\u0e36\\u0e07\", \"\\u0e19\\u0e38\\u0e48\\u0e21\", \"\\u0e19\\u0e38\\u0e48\\u0e21\", \"\\u0e19\\u0e38\\u0e48\\u0e21\", \"\\u0e19\\u0e38\\u0e48\\u0e21\", \"\\u0e19\\u0e48\\u0e32\\u0e23\\u0e31\\u0e01\", \"\\u0e19\\u0e49\\u0e33\", \"\\u0e19\\u0e49\\u0e33\", \"\\u0e19\\u0e49\\u0e33\", \"\\u0e19\\u0e49\\u0e33\", \"\\u0e19\\u0e49\\u0e33_\\u0e0b\\u0e38\\u0e1b\", \"\\u0e19\\u0e49\\u0e33_\\u0e0b\\u0e38\\u0e1b\", \"\\u0e19\\u0e49\\u0e33_\\u0e0b\\u0e38\\u0e1b\", \"\\u0e19\\u0e49\\u0e33_\\u0e0b\\u0e38\\u0e1b\", \"\\u0e19\\u0e49\\u0e33\\u0e08\\u0e34\\u0e49\\u0e21\", \"\\u0e19\\u0e49\\u0e33\\u0e08\\u0e34\\u0e49\\u0e21\", \"\\u0e19\\u0e49\\u0e33\\u0e08\\u0e34\\u0e49\\u0e21\", \"\\u0e19\\u0e49\\u0e33\\u0e08\\u0e34\\u0e49\\u0e21\", \"\\u0e19\\u0e4d\\u0e49\\u0e32\", \"\\u0e1a\\u0e23\\u0e34\\u0e01\\u0e32\\u0e23\", \"\\u0e1a\\u0e23\\u0e34\\u0e01\\u0e32\\u0e23\", \"\\u0e1a\\u0e23\\u0e34\\u0e01\\u0e32\\u0e23\", \"\\u0e1a\\u0e23\\u0e34\\u0e01\\u0e32\\u0e23\", \"\\u0e1a\\u0e34\\u0e25\", \"\\u0e1a\\u0e38\\u0e1f\\u0e40\\u0e1f\\u0e02\\u0e27\\u0e31\\u0e0d\\u0e43\\u0e08\", \"\\u0e1a\\u0e38\\u0e1f\\u0e40\\u0e1f\\u0e15\\u0e4c\", \"\\u0e1a\\u0e38\\u0e1f\\u0e40\\u0e1f\\u0e15\\u0e4c\", \"\\u0e1a\\u0e38\\u0e1f\\u0e40\\u0e1f\\u0e48\\u0e15\\u0e4c\", \"\\u0e1a\\u0e38\\u0e1f\\u0e40\\u0e1f\\u0e48\\u0e15\\u0e4c\", \"\\u0e1a\\u0e38\\u0e1f\\u0e40\\u0e1f\\u0e48\\u0e15\\u0e4c\", \"\\u0e1a\\u0e38\\u0e1f\\u0e40\\u0e1f\\u0e48\\u0e15\\u0e4c\", \"\\u0e1a\\u0e38\\u0e1f\\u0e40\\u0e1f\\u0e48\\u0e15\\u0e4c_\\u0e2b\\u0e21\\u0e39\", \"\\u0e1b\\u0e19\", \"\\u0e1b\\u0e23\\u0e30\\u0e17\\u0e31\\u0e1a\\u0e43\\u0e08\", \"\\u0e1b\\u0e23\\u0e38\\u0e07\", \"\\u0e1b\\u0e2d\\u0e01\", \"\\u0e1b\\u0e38\\u0e23\\u0e30\", \"\\u0e1c\\u0e31\\u0e01\", \"\\u0e1c\\u0e31\\u0e01\", \"\\u0e1c\\u0e31\\u0e01\", \"\\u0e1c\\u0e31\\u0e01\", \"\\u0e1c\\u0e31\\u0e01_\\u0e19\\u0e49\\u0e33\", \"\\u0e1e\\u0e19\\u0e31\\u0e01\\u0e07\\u0e32\\u0e19\", \"\\u0e1e\\u0e19\\u0e31\\u0e01\\u0e07\\u0e32\\u0e19\", \"\\u0e1e\\u0e19\\u0e31\\u0e01\\u0e07\\u0e32\\u0e19\", \"\\u0e1e\\u0e19\\u0e31\\u0e01\\u0e07\\u0e32\\u0e19\", \"\\u0e20\\u0e32\\u0e1e\", \"\\u0e23\\u0e2a\", \"\\u0e23\\u0e2a\", \"\\u0e23\\u0e2a\\u0e0a\\u0e32\\u0e15\\u0e34\", \"\\u0e23\\u0e2a\\u0e0a\\u0e32\\u0e15\\u0e34\", \"\\u0e23\\u0e2a\\u0e0a\\u0e32\\u0e15\\u0e34\", \"\\u0e23\\u0e2a\\u0e0a\\u0e32\\u0e15\\u0e34\", \"\\u0e23\\u0e2a\\u0e0a\\u0e32\\u0e15\\u0e34_\\u0e41\\u0e1b\\u0e25\\u0e01\", \"\\u0e23\\u0e2d\", \"\\u0e23\\u0e2d\", \"\\u0e23\\u0e2d\", \"\\u0e23\\u0e2d\", \"\\u0e23\\u0e32\\u0e04\\u0e32\", \"\\u0e23\\u0e32\\u0e04\\u0e32\", \"\\u0e23\\u0e32\\u0e04\\u0e32\", \"\\u0e23\\u0e32\\u0e04\\u0e32\", \"\\u0e23\\u0e32\\u0e04\\u0e32_\\u0e19\\u0e49\\u0e33\", \"\\u0e23\\u0e39\\u0e49\\u0e08\\u0e31\\u0e01\", \"\\u0e23\\u0e39\\u0e49\\u0e2a\\u0e36\\u0e01\", \"\\u0e23\\u0e39\\u0e49\\u0e2a\\u0e36\\u0e01\", \"\\u0e23\\u0e39\\u0e49\\u0e2a\\u0e36\\u0e01\", \"\\u0e23\\u0e39\\u0e49\\u0e2a\\u0e36\\u0e01\", \"\\u0e27\\u0e34\\u0e27\", \"\\u0e2a\\u0e14\", \"\\u0e2a\\u0e14\", \"\\u0e2a\\u0e14\", \"\\u0e2a\\u0e14\", \"\\u0e2a\\u0e1b\\u0e32\\u0e40\\u0e01\\u0e15\\u0e15\\u0e35\\u0e49\", \"\\u0e2a\\u0e21\\u0e23\\u0e32\\u0e04\\u0e32\", \"\\u0e2a\\u0e23\\u0e38\\u0e1b\", \"\\u0e2a\\u0e27\\u0e31\\u0e2a\\u0e14\\u0e35\", \"\\u0e2a\\u0e30\\u0e2d\\u0e49\\u0e32\\u0e19\", \"\\u0e2a\\u0e31\\u0e48\\u0e07\", \"\\u0e2a\\u0e31\\u0e48\\u0e07\", \"\\u0e2a\\u0e31\\u0e48\\u0e07\", \"\\u0e2a\\u0e31\\u0e48\\u0e07\", \"\\u0e2a\\u0e32\\u0e02\\u0e32\", \"\\u0e2a\\u0e32\\u0e02\\u0e32\", \"\\u0e2a\\u0e32\\u0e02\\u0e32\", \"\\u0e2a\\u0e32\\u0e02\\u0e32\", \"\\u0e2a\\u0e32\\u0e22\\u0e1e\\u0e32\\u0e19\", \"\\u0e2a\\u0e32\\u0e22\\u0e1e\\u0e32\\u0e19\", \"\\u0e2a\\u0e32\\u0e22\\u0e1e\\u0e32\\u0e19\", \"\\u0e2a\\u0e32\\u0e23\", \"\\u0e2a\\u0e38\\u0e01\\u0e35\\u0e49\", \"\\u0e2b\\u0e19\\u0e49\\u0e32\", \"\\u0e2b\\u0e19\\u0e49\\u0e32\", \"\\u0e2b\\u0e21\\u0e39\", \"\\u0e2b\\u0e21\\u0e39\", \"\\u0e2b\\u0e21\\u0e39\", \"\\u0e2b\\u0e21\\u0e49\\u0e2d\", \"\\u0e2b\\u0e21\\u0e49\\u0e2d\", \"\\u0e2b\\u0e21\\u0e49\\u0e2d\", \"\\u0e2b\\u0e21\\u0e49\\u0e2d\", \"\\u0e2b\\u0e22\\u0e34\\u0e1a\", \"\\u0e2b\\u0e22\\u0e34\\u0e1a\", \"\\u0e2b\\u0e22\\u0e34\\u0e1a\", \"\\u0e2b\\u0e22\\u0e34\\u0e1a\", \"\\u0e2b\\u0e25\\u0e32\\u0e01\", \"\\u0e2b\\u0e25\\u0e32\\u0e01\", \"\\u0e2b\\u0e25\\u0e32\\u0e01\", \"\\u0e2b\\u0e25\\u0e32\\u0e01\", \"\\u0e2b\\u0e27\\u0e22\", \"\\u0e2b\\u0e27\\u0e32\\u0e19\", \"\\u0e2b\\u0e27\\u0e32\\u0e19\", \"\\u0e2b\\u0e27\\u0e32\\u0e19\", \"\\u0e2b\\u0e27\\u0e32\\u0e19\", \"\\u0e2b\\u0e27\\u0e32\\u0e19_icecream\", \"\\u0e2b\\u0e49\\u0e32\\u0e07\", \"\\u0e2b\\u0e49\\u0e32\\u0e07\", \"\\u0e2b\\u0e49\\u0e32\\u0e07\", \"\\u0e2d\\u0e23\\u0e48\\u0e2d\\u0e22\", \"\\u0e2d\\u0e23\\u0e48\\u0e2d\\u0e22\", \"\\u0e2d\\u0e23\\u0e48\\u0e2d\\u0e22\", \"\\u0e2d\\u0e23\\u0e48\\u0e2d\\u0e22\", \"\\u0e2d\\u0e23\\u0e48\\u0e2d\\u0e22_\\u0e04\\u0e38\\u0e49\\u0e21\", \"\\u0e2d\\u0e23\\u0e48\\u0e2d\\u0e22_\\u0e04\\u0e38\\u0e49\\u0e21\", \"\\u0e2d\\u0e23\\u0e48\\u0e2d\\u0e22_\\u0e04\\u0e38\\u0e49\\u0e21\", \"\\u0e2d\\u0e23\\u0e48\\u0e2d\\u0e22_\\u0e04\\u0e38\\u0e49\\u0e21\", \"\\u0e2d\\u0e34\\u0e48\\u0e21\", \"\\u0e2d\\u0e34\\u0e48\\u0e21_\\u0e04\\u0e38\\u0e49\\u0e21\", \"\\u0e40\\u0e04\\u0e23\\u0e14\\u0e34\\u0e15\", \"\\u0e40\\u0e0a\\u0e47\\u0e04\", \"\\u0e40\\u0e14\\u0e34\\u0e19\", \"\\u0e40\\u0e14\\u0e47\\u0e01\", \"\\u0e40\\u0e15\\u0e47\\u0e21\", \"\\u0e40\\u0e15\\u0e47\\u0e21\", \"\\u0e40\\u0e17\\u0e35\\u0e22\\u0e1a\", \"\\u0e40\\u0e19\\u0e37\\u0e49\\u0e2d\", \"\\u0e40\\u0e19\\u0e37\\u0e49\\u0e2d\", \"\\u0e40\\u0e19\\u0e37\\u0e49\\u0e2d\", \"\\u0e40\\u0e19\\u0e37\\u0e49\\u0e2d\", \"\\u0e40\\u0e19\\u0e37\\u0e49\\u0e2d_\\u0e2a\\u0e44\\u0e25\\u0e14\\u0e4c\", \"\\u0e40\\u0e19\\u0e37\\u0e49\\u0e2d_\\u0e40\\u0e1b\\u0e47\\u0e14\", \"\\u0e40\\u0e1b\\u0e25\\u0e37\\u0e2d\\u0e01\", \"\\u0e40\\u0e21\\u0e19\\u0e39\", \"\\u0e40\\u0e21\\u0e19\\u0e39\", \"\\u0e40\\u0e21\\u0e19\\u0e39\", \"\\u0e40\\u0e21\\u0e19\\u0e39\", \"\\u0e40\\u0e25\\u0e35\\u0e48\\u0e22\\u0e19\\u0e44\\u0e27\", \"\\u0e40\\u0e27\\u0e25\\u0e32\", \"\\u0e40\\u0e27\\u0e25\\u0e32_\\u0e0a\\u0e21\", \"\\u0e40\\u0e2a\\u0e34\\u0e23\\u0e4c\\u0e1f\", \"\\u0e40\\u0e2a\\u0e34\\u0e23\\u0e4c\\u0e1f\", \"\\u0e40\\u0e2a\\u0e34\\u0e23\\u0e4c\\u0e1f\", \"\\u0e40\\u0e2a\\u0e49\\u0e19\", \"\\u0e40\\u0e2b\\u0e47\\u0e14\", \"\\u0e41\\u0e04\\u0e1a\", \"\\u0e41\\u0e19\\u0e30\\u0e19\\u0e33\", \"\\u0e41\\u0e19\\u0e30\\u0e19\\u0e33\", \"\\u0e41\\u0e19\\u0e30\\u0e19\\u0e33\", \"\\u0e41\\u0e19\\u0e48\\u0e19\\u0e2d\\u0e19\", \"\\u0e41\\u0e1b\\u0e25\\u0e01\", \"\\u0e42\\u0e0b\\u0e19\", \"\\u0e42\\u0e0b\\u0e19\", \"\\u0e42\\u0e14\\u0e19\", \"\\u0e42\\u0e14\\u0e19\", \"\\u0e42\\u0e14\\u0e19\", \"\\u0e42\\u0e15\\u0e4a\\u0e30\", \"\\u0e42\\u0e1b\\u0e23\\u0e1a\\u0e31\\u0e15\\u0e23\", \"\\u0e42\\u0e1b\\u0e23\\u0e42\\u0e21\\u0e0a\\u0e31\\u0e48\\u0e19\", \"\\u0e42\\u0e21\\u0e42\\u0e21\", \"\\u0e42\\u0e2b\\u0e14\", \"\\u0e42\\u0e2d\\u0e40\\u0e04\", \"\\u0e43\\u0e2a\", \"\\u0e44\\u0e01\\u0e48\", \"\\u0e44\\u0e01\\u0e48\", \"\\u0e44\\u0e01\\u0e48\", \"\\u0e44\\u0e01\\u0e48\", \"\\u0e44\\u0e14\\u0e1f\\u0e39\\u0e01\\u0e38\", \"\\u0e44\\u0e1c\\u0e48\", \"\\u0e44\\u0e21\\u0e49\"]}, \"R\": 30, \"lambda.step\": 0.01, \"plot.opts\": {\"xlab\": \"PC1\", \"ylab\": \"PC2\"}, \"topic.order\": [3, 1, 2, 4]};\n",
              "\n",
              "function LDAvis_load_lib(url, callback){\n",
              "  var s = document.createElement('script');\n",
              "  s.src = url;\n",
              "  s.async = true;\n",
              "  s.onreadystatechange = s.onload = callback;\n",
              "  s.onerror = function(){console.warn(\"failed to load library \" + url);};\n",
              "  document.getElementsByTagName(\"head\")[0].appendChild(s);\n",
              "}\n",
              "\n",
              "if(typeof(LDAvis) !== \"undefined\"){\n",
              "   // already loaded: just create the visualization\n",
              "   !function(LDAvis){\n",
              "       new LDAvis(\"#\" + \"ldavis_el3231402707830390561105971792\", ldavis_el3231402707830390561105971792_data);\n",
              "   }(LDAvis);\n",
              "}else if(typeof define === \"function\" && define.amd){\n",
              "   // require.js is available: use it to load d3/LDAvis\n",
              "   require.config({paths: {d3: \"https://d3js.org/d3.v5\"}});\n",
              "   require([\"d3\"], function(d3){\n",
              "      window.d3 = d3;\n",
              "      LDAvis_load_lib(\"https://cdn.jsdelivr.net/gh/bmabey/pyLDAvis@3.3.1/pyLDAvis/js/ldavis.v3.0.0.js\", function(){\n",
              "        new LDAvis(\"#\" + \"ldavis_el3231402707830390561105971792\", ldavis_el3231402707830390561105971792_data);\n",
              "      });\n",
              "    });\n",
              "}else{\n",
              "    // require.js not available: dynamically load d3 & LDAvis\n",
              "    LDAvis_load_lib(\"https://d3js.org/d3.v5.js\", function(){\n",
              "         LDAvis_load_lib(\"https://cdn.jsdelivr.net/gh/bmabey/pyLDAvis@3.3.1/pyLDAvis/js/ldavis.v3.0.0.js\", function(){\n",
              "                 new LDAvis(\"#\" + \"ldavis_el3231402707830390561105971792\", ldavis_el3231402707830390561105971792_data);\n",
              "            })\n",
              "         });\n",
              "}\n",
              "</script>"
            ],
            "text/plain": [
              "PreparedData(topic_coordinates=              x         y  topics  cluster       Freq\n",
              "topic                                                \n",
              "2     -0.045441  0.010195       1        1  31.168258\n",
              "0      0.027880  0.033876       2        1  30.765052\n",
              "1      0.011627 -0.038587       3        1  20.215686\n",
              "3      0.005933 -0.005485       4        1  17.851004, topic_info=         Term      Freq     Total Category  logprob  loglift\n",
              "246      กุ้ง  5.000000  5.000000  Default  30.0000  30.0000\n",
              "341      เวลา  3.000000  3.000000  Default  29.0000  29.0000\n",
              "432     pizza  4.000000  4.000000  Default  28.0000  28.0000\n",
              "243  shabushi  8.000000  8.000000  Default  27.0000  27.0000\n",
              "304       ปอก  2.000000  2.000000  Default  26.0000  26.0000\n",
              "..        ...       ...       ...      ...      ...      ...\n",
              "89        น้ำ  1.034890  6.059252   Topic4  -5.1250  -0.0442\n",
              "46       นั่ง  0.968256  5.727543   Topic4  -5.1916  -0.0544\n",
              "246      กุ้ง  0.945944  5.786649   Topic4  -5.2149  -0.0880\n",
              "255       ทอด  0.903281  4.442268   Topic4  -5.2610   0.1302\n",
              "109      หวาน  0.863872  7.320499   Topic4  -5.3057  -0.4139\n",
              "\n",
              "[269 rows x 6 columns], token_table=      Topic      Freq      Term\n",
              "term                           \n",
              "0         1  0.277121  icecream\n",
              "0         2  0.415681  icecream\n",
              "0         3  0.138560  icecream\n",
              "0         4  0.138560  icecream\n",
              "469       1  0.933604      mall\n",
              "...     ...       ...       ...\n",
              "130       3  0.206887       ไก่\n",
              "130       4  0.206887       ไก่\n",
              "132       2  0.510310    ไดฟูกุ\n",
              "133       2  0.514383       ไผ่\n",
              "134       2  0.515462       ไม้\n",
              "\n",
              "[284 rows x 3 columns], R=30, lambda_step=0.01, plot_opts={'xlab': 'PC1', 'ylab': 'PC2'}, topic_order=[3, 1, 2, 4])"
            ]
          },
          "metadata": {
            "tags": []
          },
          "execution_count": 126
        }
      ]
    },
    {
      "cell_type": "code",
      "metadata": {
        "colab": {
          "base_uri": "https://localhost:8080/",
          "height": 204
        },
        "id": "p46IY_I0U_V6",
        "outputId": "742d4499-a518-4c26-b9af-8046c7b3436a"
      },
      "source": [
        "result = []\n",
        "topn = 15\n",
        "\n",
        "for n in range(num_topics):\n",
        "    temp_df = pd.DataFrame(model.get_topic_terms(n, topn=topn), columns=['word_id','prob'])\n",
        "    temp_df['topic'] = n\n",
        "    result.append(temp_df)\n",
        "\n",
        "topic_terms_df = pd.concat(result)\n",
        "topic_terms_df['word'] = topic_terms_df['word_id'].apply(lambda x: dictionary.get(x))\n",
        "topic_terms_df.head()"
      ],
      "execution_count": null,
      "outputs": [
        {
          "output_type": "execute_result",
          "data": {
            "text/html": [
              "<div>\n",
              "<style scoped>\n",
              "    .dataframe tbody tr th:only-of-type {\n",
              "        vertical-align: middle;\n",
              "    }\n",
              "\n",
              "    .dataframe tbody tr th {\n",
              "        vertical-align: top;\n",
              "    }\n",
              "\n",
              "    .dataframe thead th {\n",
              "        text-align: right;\n",
              "    }\n",
              "</style>\n",
              "<table border=\"1\" class=\"dataframe\">\n",
              "  <thead>\n",
              "    <tr style=\"text-align: right;\">\n",
              "      <th></th>\n",
              "      <th>word_id</th>\n",
              "      <th>prob</th>\n",
              "      <th>topic</th>\n",
              "      <th>word</th>\n",
              "    </tr>\n",
              "  </thead>\n",
              "  <tbody>\n",
              "    <tr>\n",
              "      <th>0</th>\n",
              "      <td>30</td>\n",
              "      <td>0.020393</td>\n",
              "      <td>0</td>\n",
              "      <td>เนื้อ</td>\n",
              "    </tr>\n",
              "    <tr>\n",
              "      <th>1</th>\n",
              "      <td>25</td>\n",
              "      <td>0.018522</td>\n",
              "      <td>0</td>\n",
              "      <td>อร่อย</td>\n",
              "    </tr>\n",
              "    <tr>\n",
              "      <th>2</th>\n",
              "      <td>10</td>\n",
              "      <td>0.016745</td>\n",
              "      <td>0</td>\n",
              "      <td>น้ำ_ซุป</td>\n",
              "    </tr>\n",
              "    <tr>\n",
              "      <th>3</th>\n",
              "      <td>15</td>\n",
              "      <td>0.015243</td>\n",
              "      <td>0</td>\n",
              "      <td>รสชาติ</td>\n",
              "    </tr>\n",
              "    <tr>\n",
              "      <th>4</th>\n",
              "      <td>17</td>\n",
              "      <td>0.015070</td>\n",
              "      <td>0</td>\n",
              "      <td>ราคา</td>\n",
              "    </tr>\n",
              "  </tbody>\n",
              "</table>\n",
              "</div>"
            ],
            "text/plain": [
              "   word_id      prob  topic     word\n",
              "0       30  0.020393      0    เนื้อ\n",
              "1       25  0.018522      0    อร่อย\n",
              "2       10  0.016745      0  น้ำ_ซุป\n",
              "3       15  0.015243      0   รสชาติ\n",
              "4       17  0.015070      0     ราคา"
            ]
          },
          "metadata": {
            "tags": []
          },
          "execution_count": 127
        }
      ]
    },
    {
      "cell_type": "code",
      "metadata": {
        "colab": {
          "base_uri": "https://localhost:8080/"
        },
        "id": "xnZJoeOBnt_o",
        "outputId": "7250798d-d39d-453e-9fe4-2b52e9969c56"
      },
      "source": [
        "topic_terms_df['word'].unique()"
      ],
      "execution_count": null,
      "outputs": [
        {
          "output_type": "execute_result",
          "data": {
            "text/plain": [
              "array(['เนื้อ', 'อร่อย', 'น้ำ_ซุป', 'รสชาติ', 'ราคา', 'บริการ', 'คุณภาพ',\n",
              "       'สาขา', 'shabushi', 'นั่ง', 'icecream', 'หม้อ', 'คุ้ม', 'เมนู',\n",
              "       'น้ำจิ้ม', 'กุ้ง', 'สด', 'หวาน', 'เวลา', 'บุฟเฟ่ต์', 'pizza',\n",
              "       'พนักงาน', 'น้ำ', 'สั่ง', 'ชาบู', 'ผัก'], dtype=object)"
            ]
          },
          "metadata": {
            "tags": []
          },
          "execution_count": 128
        }
      ]
    },
    {
      "cell_type": "code",
      "metadata": {
        "id": "CLAU-VnLazPp"
      },
      "source": [
        "topic_terms_df.to_pickle('topic_term.pkl')"
      ],
      "execution_count": null,
      "outputs": []
    },
    {
      "cell_type": "code",
      "metadata": {
        "id": "PyqSvsUjlFL-"
      },
      "source": [
        "df['topic'] = df['trigram_mod'].apply(lambda x: model.get_document_topics(dictionary.doc2bow(x))[0][0])\n",
        "df['score'] = df['trigram_mod'].apply(lambda x: model.get_document_topics(dictionary.doc2bow(x))[0][1])"
      ],
      "execution_count": null,
      "outputs": []
    },
    {
      "cell_type": "code",
      "metadata": {
        "colab": {
          "base_uri": "https://localhost:8080/",
          "height": 700
        },
        "id": "Qu9bThSPc3eo",
        "outputId": "7c088e96-6de1-41cc-e162-7f5d7d1ab202"
      },
      "source": [
        "df[['Restaurant','cleansed_text','topic','score']]"
      ],
      "execution_count": null,
      "outputs": [
        {
          "output_type": "execute_result",
          "data": {
            "text/html": [
              "<div>\n",
              "<style scoped>\n",
              "    .dataframe tbody tr th:only-of-type {\n",
              "        vertical-align: middle;\n",
              "    }\n",
              "\n",
              "    .dataframe tbody tr th {\n",
              "        vertical-align: top;\n",
              "    }\n",
              "\n",
              "    .dataframe thead th {\n",
              "        text-align: right;\n",
              "    }\n",
              "</style>\n",
              "<table border=\"1\" class=\"dataframe\">\n",
              "  <thead>\n",
              "    <tr style=\"text-align: right;\">\n",
              "      <th></th>\n",
              "      <th>Restaurant</th>\n",
              "      <th>cleansed_text</th>\n",
              "      <th>topic</th>\n",
              "      <th>score</th>\n",
              "    </tr>\n",
              "  </thead>\n",
              "  <tbody>\n",
              "    <tr>\n",
              "      <th>0</th>\n",
              "      <td>Mo-Mo-Paradise (โม โม พาราไดซ์) เดอะมอลล์ บางกะปิ</td>\n",
              "      <td>ที่สำคัญของร้านนี้คือบริการดีมากพนักงานน่ารักส...</td>\n",
              "      <td>0</td>\n",
              "      <td>0.998089</td>\n",
              "    </tr>\n",
              "    <tr>\n",
              "      <th>1</th>\n",
              "      <td>Mo-Mo-Paradise (โม โม พาราไดซ์) เดอะมอลล์ บางกะปิ</td>\n",
              "      <td>รสชาติเหมือนทุกสาขา แต่สาขานี้ บริการดี ที่นั่...</td>\n",
              "      <td>2</td>\n",
              "      <td>0.997896</td>\n",
              "    </tr>\n",
              "    <tr>\n",
              "      <th>2</th>\n",
              "      <td>Mo-Mo-Paradise (โม โม พาราไดซ์) เดอะมอลล์ บางกะปิ</td>\n",
              "      <td>ชาบูพรีเมียมสไตล์ญี่ปุ่น เนื้อดีมากก มาทานช่วง...</td>\n",
              "      <td>0</td>\n",
              "      <td>0.999106</td>\n",
              "    </tr>\n",
              "    <tr>\n",
              "      <th>3</th>\n",
              "      <td>Mo-Mo-Paradise (โม โม พาราไดซ์) เดอะมอลล์ บางกะปิ</td>\n",
              "      <td>เนื้อดี icecreamดี คุ้มค่าดี ถ้านึกถึงชาบูที่ม...</td>\n",
              "      <td>0</td>\n",
              "      <td>0.995860</td>\n",
              "    </tr>\n",
              "    <tr>\n",
              "      <th>4</th>\n",
              "      <td>Mo-Mo-Paradise (โม โม พาราไดซ์) เดอะมอลล์ บางกะปิ</td>\n",
              "      <td>อาหารมีคุณภาพ บริการดีค่ะ เดินมาหน้าร้านแล้วได...</td>\n",
              "      <td>0</td>\n",
              "      <td>0.996712</td>\n",
              "    </tr>\n",
              "    <tr>\n",
              "      <th>5</th>\n",
              "      <td>Mo-Mo-Paradise (โม โม พาราไดซ์) เดอะมอลล์ บางกะปิ</td>\n",
              "      <td>กินให้อิ่ม ที่ momo ร้านบุฟเฟ่ ชาบูแนวญี่ปุ่น ...</td>\n",
              "      <td>2</td>\n",
              "      <td>0.996688</td>\n",
              "    </tr>\n",
              "    <tr>\n",
              "      <th>6</th>\n",
              "      <td>Mo-Mo-Paradise (โม โม พาราไดซ์) เดอะมอลล์ บางกะปิ</td>\n",
              "      <td>ชาบู   สุกกี้สไลด์ญี่ปุ่นที่แท้ทรู  number    ...</td>\n",
              "      <td>3</td>\n",
              "      <td>0.997838</td>\n",
              "    </tr>\n",
              "    <tr>\n",
              "      <th>7</th>\n",
              "      <td>Mo-Mo-Paradise (โม โม พาราไดซ์) เดอะมอลล์ บางกะปิ</td>\n",
              "      <td>ร้านชาบูแฟรนไชส์ ที่ราคาเหมาะสมกับคุณภาพ ถือว่...</td>\n",
              "      <td>3</td>\n",
              "      <td>0.997642</td>\n",
              "    </tr>\n",
              "    <tr>\n",
              "      <th>8</th>\n",
              "      <td>Shabushi (ชาบูชิ) เดอะมอลล์บางกะปิ ชั้น G</td>\n",
              "      <td>อร่อยคุ้ม ของทานเล่นเยอะมาก มา านที่ขาบูชิต้อง...</td>\n",
              "      <td>1</td>\n",
              "      <td>0.995538</td>\n",
              "    </tr>\n",
              "    <tr>\n",
              "      <th>9</th>\n",
              "      <td>Shabushi (ชาบูชิ) เดอะมอลล์บางกะปิ ชั้น G</td>\n",
              "      <td>ทานอีก ชอบกุ้งทอดเทมปุระ ใครชอบกุ้งทอดเทมปุระ ...</td>\n",
              "      <td>3</td>\n",
              "      <td>0.997271</td>\n",
              "    </tr>\n",
              "    <tr>\n",
              "      <th>10</th>\n",
              "      <td>Shabushi (ชาบูชิ) เดอะมอลล์บางกะปิ ชั้น G</td>\n",
              "      <td>บุฟเฟ่ต์คุ้ม ในห้าง กลับมาupdateราคาshabushi ต...</td>\n",
              "      <td>1</td>\n",
              "      <td>0.995345</td>\n",
              "    </tr>\n",
              "    <tr>\n",
              "      <th>11</th>\n",
              "      <td>Shabushi (ชาบูชิ) เดอะมอลล์บางกะปิ ชั้น G</td>\n",
              "      <td>เปลี่ยนจากกุ้งขาดสารอาหารเป็นกุ้งปอกเปลือกแล้ว...</td>\n",
              "      <td>1</td>\n",
              "      <td>0.999283</td>\n",
              "    </tr>\n",
              "    <tr>\n",
              "      <th>12</th>\n",
              "      <td>Shabushi (ชาบูชิ) เดอะมอลล์บางกะปิ ชั้น G</td>\n",
              "      <td>อิ่ม อร่อย ฝุดฝุด เมื่อหลายวันก่อนนัดหาข้าวทาน...</td>\n",
              "      <td>2</td>\n",
              "      <td>0.996810</td>\n",
              "    </tr>\n",
              "    <tr>\n",
              "      <th>13</th>\n",
              "      <td>Shabushi (ชาบูชิ) เดอะมอลล์บางกะปิ ชั้น G</td>\n",
              "      <td>จัดให้เต็มคราบกับชั่วโมงครึ่ง shabushi บอกตรง ...</td>\n",
              "      <td>3</td>\n",
              "      <td>0.997642</td>\n",
              "    </tr>\n",
              "    <tr>\n",
              "      <th>14</th>\n",
              "      <td>Shabushi (ชาบูชิ) เดอะมอลล์บางกะปิ ชั้น G</td>\n",
              "      <td>ชาบู shabushi สวัสดีครับวันนี้จะขอมารีวิวร้านs...</td>\n",
              "      <td>0</td>\n",
              "      <td>0.995860</td>\n",
              "    </tr>\n",
              "    <tr>\n",
              "      <th>15</th>\n",
              "      <td>Shabushi (ชาบูชิ) เดอะมอลล์บางกะปิ ชั้น G</td>\n",
              "      <td>บุฟเฟต์น้ำเดือด สายพานร่อน shabushi สาขาเดอะมอ...</td>\n",
              "      <td>0</td>\n",
              "      <td>0.998594</td>\n",
              "    </tr>\n",
              "    <tr>\n",
              "      <th>16</th>\n",
              "      <td>ข้าน้อยขอชาบู</td>\n",
              "      <td>บุฟเฟ่ต์ชาบูและpizzaไม่อั้นในราคา     บาท เน้น...</td>\n",
              "      <td>2</td>\n",
              "      <td>0.998401</td>\n",
              "    </tr>\n",
              "    <tr>\n",
              "      <th>17</th>\n",
              "      <td>ข้าน้อยขอชาบู</td>\n",
              "      <td>ร้านบุฟเฟ่ต์ ราคามิตรภาพ อยู่ชั้น  ติดโรงหนัง ...</td>\n",
              "      <td>2</td>\n",
              "      <td>0.998273</td>\n",
              "    </tr>\n",
              "    <tr>\n",
              "      <th>18</th>\n",
              "      <td>ข้าน้อยขอชาบู</td>\n",
              "      <td>ของหลากหลาย ปน  งง  นิดหน่อย เคยรู้จักร้านนี้จ...</td>\n",
              "      <td>2</td>\n",
              "      <td>0.997464</td>\n",
              "    </tr>\n",
              "    <tr>\n",
              "      <th>19</th>\n",
              "      <td>ข้าน้อยขอชาบู</td>\n",
              "      <td>อร่อยมากค่ะ คุ้มค่าสมราคา บุฟเฟ่หมูผักต่าง  รว...</td>\n",
              "      <td>2</td>\n",
              "      <td>0.997946</td>\n",
              "    </tr>\n",
              "    <tr>\n",
              "      <th>20</th>\n",
              "      <td>ข้าน้อยขอชาบู</td>\n",
              "      <td>แม้จะแปลกบ้าง แต่ก็ถือว่าอยู่ในเกณฑ์ที่ดี มีอา...</td>\n",
              "      <td>2</td>\n",
              "      <td>0.997127</td>\n",
              "    </tr>\n",
              "  </tbody>\n",
              "</table>\n",
              "</div>"
            ],
            "text/plain": [
              "                                           Restaurant  ...     score\n",
              "0   Mo-Mo-Paradise (โม โม พาราไดซ์) เดอะมอลล์ บางกะปิ  ...  0.998089\n",
              "1   Mo-Mo-Paradise (โม โม พาราไดซ์) เดอะมอลล์ บางกะปิ  ...  0.997896\n",
              "2   Mo-Mo-Paradise (โม โม พาราไดซ์) เดอะมอลล์ บางกะปิ  ...  0.999106\n",
              "3   Mo-Mo-Paradise (โม โม พาราไดซ์) เดอะมอลล์ บางกะปิ  ...  0.995860\n",
              "4   Mo-Mo-Paradise (โม โม พาราไดซ์) เดอะมอลล์ บางกะปิ  ...  0.996712\n",
              "5   Mo-Mo-Paradise (โม โม พาราไดซ์) เดอะมอลล์ บางกะปิ  ...  0.996688\n",
              "6   Mo-Mo-Paradise (โม โม พาราไดซ์) เดอะมอลล์ บางกะปิ  ...  0.997838\n",
              "7   Mo-Mo-Paradise (โม โม พาราไดซ์) เดอะมอลล์ บางกะปิ  ...  0.997642\n",
              "8           Shabushi (ชาบูชิ) เดอะมอลล์บางกะปิ ชั้น G  ...  0.995538\n",
              "9           Shabushi (ชาบูชิ) เดอะมอลล์บางกะปิ ชั้น G  ...  0.997271\n",
              "10          Shabushi (ชาบูชิ) เดอะมอลล์บางกะปิ ชั้น G  ...  0.995345\n",
              "11          Shabushi (ชาบูชิ) เดอะมอลล์บางกะปิ ชั้น G  ...  0.999283\n",
              "12          Shabushi (ชาบูชิ) เดอะมอลล์บางกะปิ ชั้น G  ...  0.996810\n",
              "13          Shabushi (ชาบูชิ) เดอะมอลล์บางกะปิ ชั้น G  ...  0.997642\n",
              "14          Shabushi (ชาบูชิ) เดอะมอลล์บางกะปิ ชั้น G  ...  0.995860\n",
              "15          Shabushi (ชาบูชิ) เดอะมอลล์บางกะปิ ชั้น G  ...  0.998594\n",
              "16                                      ข้าน้อยขอชาบู  ...  0.998401\n",
              "17                                      ข้าน้อยขอชาบู  ...  0.998273\n",
              "18                                      ข้าน้อยขอชาบู  ...  0.997464\n",
              "19                                      ข้าน้อยขอชาบู  ...  0.997946\n",
              "20                                      ข้าน้อยขอชาบู  ...  0.997127\n",
              "\n",
              "[21 rows x 4 columns]"
            ]
          },
          "metadata": {
            "tags": []
          },
          "execution_count": 131
        }
      ]
    },
    {
      "cell_type": "code",
      "metadata": {
        "id": "MifxjqndcmpM"
      },
      "source": [
        "df.to_pickle('result.pkl')"
      ],
      "execution_count": null,
      "outputs": []
    },
    {
      "cell_type": "markdown",
      "metadata": {
        "id": "5J_deq_Re74N"
      },
      "source": [
        "## **Result**"
      ]
    },
    {
      "cell_type": "code",
      "metadata": {
        "id": "e_r8d3To5Psn"
      },
      "source": [
        "df = pd.read_pickle('result.pkl')\n",
        "topic_terms_df = pd.read_pickle('topic_term.pkl')"
      ],
      "execution_count": null,
      "outputs": []
    },
    {
      "cell_type": "code",
      "metadata": {
        "colab": {
          "base_uri": "https://localhost:8080/"
        },
        "id": "8ZfHl6e45k2D",
        "outputId": "052518f8-ed6e-47f9-f600-498da41c45be"
      },
      "source": [
        "topic_terms_df.word.unique()"
      ],
      "execution_count": null,
      "outputs": [
        {
          "output_type": "execute_result",
          "data": {
            "text/plain": [
              "array(['เนื้อ', 'อร่อย', 'น้ำ_ซุป', 'รสชาติ', 'ราคา', 'บริการ', 'คุณภาพ',\n",
              "       'สาขา', 'shabushi', 'นั่ง', 'icecream', 'หม้อ', 'คุ้ม', 'เมนู',\n",
              "       'น้ำจิ้ม', 'กุ้ง', 'สด', 'หวาน', 'เวลา', 'บุฟเฟ่ต์', 'pizza',\n",
              "       'พนักงาน', 'น้ำ', 'สั่ง', 'ชาบู', 'ผัก'], dtype=object)"
            ]
          },
          "metadata": {
            "tags": []
          },
          "execution_count": 143
        }
      ]
    },
    {
      "cell_type": "code",
      "metadata": {
        "colab": {
          "base_uri": "https://localhost:8080/"
        },
        "id": "VGX3DAiK6ZMz",
        "outputId": "c0ca3e08-d2be-42b8-ecc2-021838608c64"
      },
      "source": [
        "ttdf = topic_terms_df.sort_values(['topic','prob'],ascending=[True, False]).groupby('topic').head(10)\n",
        "ttdf['word'].unique()"
      ],
      "execution_count": null,
      "outputs": [
        {
          "output_type": "execute_result",
          "data": {
            "text/plain": [
              "array(['เนื้อ', 'อร่อย', 'น้ำ_ซุป', 'รสชาติ', 'ราคา', 'บริการ', 'คุณภาพ',\n",
              "       'สาขา', 'shabushi', 'นั่ง', 'กุ้ง', 'สด', 'หวาน', 'บุฟเฟ่ต์',\n",
              "       'pizza', 'คุ้ม', 'ชาบู'], dtype=object)"
            ]
          },
          "metadata": {
            "tags": []
          },
          "execution_count": 151
        }
      ]
    },
    {
      "cell_type": "markdown",
      "metadata": {
        "id": "8PBDcTY8QdC6"
      },
      "source": [
        "### Restaurants x Topics"
      ]
    },
    {
      "cell_type": "code",
      "metadata": {
        "id": "e8vW7ZN2kDoi",
        "colab": {
          "base_uri": "https://localhost:8080/",
          "height": 173
        },
        "outputId": "cf8da0f5-4bdf-466d-d2c6-3e30a1ce8943"
      },
      "source": [
        "pd.crosstab(df['Restaurant'], df['topic'])"
      ],
      "execution_count": null,
      "outputs": [
        {
          "output_type": "execute_result",
          "data": {
            "text/html": [
              "<div>\n",
              "<style scoped>\n",
              "    .dataframe tbody tr th:only-of-type {\n",
              "        vertical-align: middle;\n",
              "    }\n",
              "\n",
              "    .dataframe tbody tr th {\n",
              "        vertical-align: top;\n",
              "    }\n",
              "\n",
              "    .dataframe thead th {\n",
              "        text-align: right;\n",
              "    }\n",
              "</style>\n",
              "<table border=\"1\" class=\"dataframe\">\n",
              "  <thead>\n",
              "    <tr style=\"text-align: right;\">\n",
              "      <th>topic</th>\n",
              "      <th>0</th>\n",
              "      <th>1</th>\n",
              "      <th>2</th>\n",
              "      <th>3</th>\n",
              "    </tr>\n",
              "    <tr>\n",
              "      <th>Restaurant</th>\n",
              "      <th></th>\n",
              "      <th></th>\n",
              "      <th></th>\n",
              "      <th></th>\n",
              "    </tr>\n",
              "  </thead>\n",
              "  <tbody>\n",
              "    <tr>\n",
              "      <th>Mo-Mo-Paradise (โม โม พาราไดซ์) เดอะมอลล์ บางกะปิ</th>\n",
              "      <td>4</td>\n",
              "      <td>0</td>\n",
              "      <td>2</td>\n",
              "      <td>2</td>\n",
              "    </tr>\n",
              "    <tr>\n",
              "      <th>Shabushi (ชาบูชิ) เดอะมอลล์บางกะปิ ชั้น G</th>\n",
              "      <td>2</td>\n",
              "      <td>3</td>\n",
              "      <td>1</td>\n",
              "      <td>2</td>\n",
              "    </tr>\n",
              "    <tr>\n",
              "      <th>ข้าน้อยขอชาบู</th>\n",
              "      <td>0</td>\n",
              "      <td>0</td>\n",
              "      <td>5</td>\n",
              "      <td>0</td>\n",
              "    </tr>\n",
              "  </tbody>\n",
              "</table>\n",
              "</div>"
            ],
            "text/plain": [
              "topic                                              0  1  2  3\n",
              "Restaurant                                                   \n",
              "Mo-Mo-Paradise (โม โม พาราไดซ์) เดอะมอลล์ บางกะปิ  4  0  2  2\n",
              "Shabushi (ชาบูชิ) เดอะมอลล์บางกะปิ ชั้น G          2  3  1  2\n",
              "ข้าน้อยขอชาบู                                      0  0  5  0"
            ]
          },
          "metadata": {
            "tags": []
          },
          "execution_count": 152
        }
      ]
    },
    {
      "cell_type": "markdown",
      "metadata": {
        "id": "zbHuhlafQbQs"
      },
      "source": [
        "### Rating by Topic"
      ]
    },
    {
      "cell_type": "code",
      "metadata": {
        "colab": {
          "base_uri": "https://localhost:8080/",
          "height": 204
        },
        "id": "B-m39qk7PlxD",
        "outputId": "3c84305d-1784-4d76-bc42-b5b1ee559dd3"
      },
      "source": [
        "df.groupby('topic')['Rating'].describe()"
      ],
      "execution_count": null,
      "outputs": [
        {
          "output_type": "execute_result",
          "data": {
            "text/html": [
              "<div>\n",
              "<style scoped>\n",
              "    .dataframe tbody tr th:only-of-type {\n",
              "        vertical-align: middle;\n",
              "    }\n",
              "\n",
              "    .dataframe tbody tr th {\n",
              "        vertical-align: top;\n",
              "    }\n",
              "\n",
              "    .dataframe thead th {\n",
              "        text-align: right;\n",
              "    }\n",
              "</style>\n",
              "<table border=\"1\" class=\"dataframe\">\n",
              "  <thead>\n",
              "    <tr style=\"text-align: right;\">\n",
              "      <th></th>\n",
              "      <th>count</th>\n",
              "      <th>mean</th>\n",
              "      <th>std</th>\n",
              "      <th>min</th>\n",
              "      <th>25%</th>\n",
              "      <th>50%</th>\n",
              "      <th>75%</th>\n",
              "      <th>max</th>\n",
              "    </tr>\n",
              "    <tr>\n",
              "      <th>topic</th>\n",
              "      <th></th>\n",
              "      <th></th>\n",
              "      <th></th>\n",
              "      <th></th>\n",
              "      <th></th>\n",
              "      <th></th>\n",
              "      <th></th>\n",
              "      <th></th>\n",
              "    </tr>\n",
              "  </thead>\n",
              "  <tbody>\n",
              "    <tr>\n",
              "      <th>0</th>\n",
              "      <td>6.0</td>\n",
              "      <td>4.333333</td>\n",
              "      <td>0.516398</td>\n",
              "      <td>4.0</td>\n",
              "      <td>4.0</td>\n",
              "      <td>4.0</td>\n",
              "      <td>4.75</td>\n",
              "      <td>5.0</td>\n",
              "    </tr>\n",
              "    <tr>\n",
              "      <th>1</th>\n",
              "      <td>3.0</td>\n",
              "      <td>3.333333</td>\n",
              "      <td>0.577350</td>\n",
              "      <td>3.0</td>\n",
              "      <td>3.0</td>\n",
              "      <td>3.0</td>\n",
              "      <td>3.50</td>\n",
              "      <td>4.0</td>\n",
              "    </tr>\n",
              "    <tr>\n",
              "      <th>2</th>\n",
              "      <td>7.0</td>\n",
              "      <td>4.142857</td>\n",
              "      <td>0.690066</td>\n",
              "      <td>3.0</td>\n",
              "      <td>4.0</td>\n",
              "      <td>4.0</td>\n",
              "      <td>4.50</td>\n",
              "      <td>5.0</td>\n",
              "    </tr>\n",
              "    <tr>\n",
              "      <th>3</th>\n",
              "      <td>4.0</td>\n",
              "      <td>3.500000</td>\n",
              "      <td>0.577350</td>\n",
              "      <td>3.0</td>\n",
              "      <td>3.0</td>\n",
              "      <td>3.5</td>\n",
              "      <td>4.00</td>\n",
              "      <td>4.0</td>\n",
              "    </tr>\n",
              "  </tbody>\n",
              "</table>\n",
              "</div>"
            ],
            "text/plain": [
              "       count      mean       std  min  25%  50%   75%  max\n",
              "topic                                                     \n",
              "0        6.0  4.333333  0.516398  4.0  4.0  4.0  4.75  5.0\n",
              "1        3.0  3.333333  0.577350  3.0  3.0  3.0  3.50  4.0\n",
              "2        7.0  4.142857  0.690066  3.0  4.0  4.0  4.50  5.0\n",
              "3        4.0  3.500000  0.577350  3.0  3.0  3.5  4.00  4.0"
            ]
          },
          "metadata": {
            "tags": []
          },
          "execution_count": 153
        }
      ]
    },
    {
      "cell_type": "code",
      "metadata": {
        "colab": {
          "base_uri": "https://localhost:8080/"
        },
        "id": "YVjd199Qfp6-",
        "outputId": "6f08ce4e-e0ed-47b2-c3e7-3f3a4b9d0337"
      },
      "source": [
        "import networkx as nx\n",
        "G = nx.Graph()\n",
        "\n",
        "G.add_weighted_edges_from([(f\"Topic {r['topic']}\", r['word'], round(r['prob'],4)) for i,r in ttdf.iterrows()])\n",
        "\n",
        "print(nx.info(G))"
      ],
      "execution_count": null,
      "outputs": [
        {
          "output_type": "stream",
          "text": [
            "Name: \n",
            "Type: Graph\n",
            "Number of nodes: 21\n",
            "Number of edges: 40\n",
            "Average degree:   3.8095\n"
          ],
          "name": "stdout"
        }
      ]
    },
    {
      "cell_type": "code",
      "metadata": {
        "colab": {
          "base_uri": "https://localhost:8080/",
          "height": 895
        },
        "id": "3QTyj1R0iTou",
        "outputId": "e0d63ecf-cc38-4520-f3fd-f7051373cd5e"
      },
      "source": [
        "# nodelist, node_size = zip(*[(n,d['support']) for n,d in G.nodes(data=True)])\n",
        "# node_size = 150 + ((np.array(node_size) - min(node_size)) / (max(node_size) - min(node_size)))*1200\n",
        "topic_nodes = [ f\"Topic {i}\" for i in range(num_topics)]\n",
        "edgelist, weights = zip(*[((u,v), d['weight']) for u,v,d in G.edges(data=True)])\n",
        "\n",
        "\n",
        "width = 1 + ((np.array(weights) - min(weights)) / (max(weights) - min(weights)))*4\n",
        "\n",
        "labels_params = {'font_family': 'K2D', 'alpha':.8, 'font_size':12}\n",
        "\n",
        "plt.figure(figsize=(9,12))\n",
        "\n",
        "# pos = nx.spring_layout(G, k=5, weight='lift', iterations=120, seed=120, scale=2.5)\n",
        "# pos = nx.spring_layout(G, k=5, weight='weight', iterations=80, seed=90, scale=2.5)\n",
        "pos = nx.bipartite_layout(G, topic_nodes)\n",
        "nx.draw(G, pos, with_labels=True, \n",
        "        edgelist=edgelist, width=width, edge_color=width, edge_cmap=plt.cm.autumn_r, #edge_color='.75',\n",
        "        node_color='turquoise', node_size=700, \n",
        "        **labels_params)\n",
        "# edge_labels = nx.get_edge_attributes(G, 'weight')\n",
        "# nx.draw_networkx_edge_labels(G, pos, edge_labels=edge_labels, font_color='tomato',  **labels_params)\n",
        "\n",
        "# plt.title('Association Rules of 1-itemsets')\n",
        "# plt.savefig('plots/association-rules-1.jpg', dpi=120)\n",
        "plt.show()"
      ],
      "execution_count": null,
      "outputs": [
        {
          "output_type": "display_data",
          "data": {
            "image/png": "[encoded data removed]",
            "text/plain": [
              "<Figure size 648x864 with 1 Axes>"
            ]
          },
          "metadata": {
            "tags": []
          }
        }
      ]
    },
    {
      "cell_type": "code",
      "metadata": {
        "id": "hcPxlr7gOyhT"
      },
      "source": [
        ""
      ],
      "execution_count": null,
      "outputs": []
    }
  ]
}